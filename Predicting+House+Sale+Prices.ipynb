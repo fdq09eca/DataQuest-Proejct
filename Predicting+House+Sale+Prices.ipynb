{
 "cells": [
  {
   "cell_type": "code",
   "execution_count": 19,
   "metadata": {
    "collapsed": false
   },
   "outputs": [],
   "source": [
    "import pandas as pd\n",
    "%matplotlib inline\n",
    "import matplotlib.pyplot as plt\n",
    "import numpy as np\n",
    "import seaborn as sns\n",
    "from sklearn import linear_model\n",
    "from sklearn.metrics import mean_squared_error\n",
    "from sklearn.model_selection import KFold, cross_val_score"
   ]
  },
  {
   "cell_type": "code",
   "execution_count": 2,
   "metadata": {
    "collapsed": false
   },
   "outputs": [
    {
     "data": {
      "text/plain": [
       "56197.260867074234"
      ]
     },
     "execution_count": 2,
     "metadata": {},
     "output_type": "execute_result"
    }
   ],
   "source": [
    "df = pd.read_csv('AmesHousing.tsv',delimiter='\\t')\n",
    "def transform_features(df):\n",
    "    return df\n",
    "def select_features(df):\n",
    "    return df[['Gr Liv Area','SalePrice']]\n",
    "def train_and_test(df):\n",
    "    train = df[1460:]\n",
    "    test = df[:1460]\n",
    "    features = df.select_dtypes(['int', 'float']).columns.drop('SalePrice')\n",
    "    model = linear_model.LinearRegression()\n",
    "    model.fit(train[features], train['SalePrice'])\n",
    "    predictions = model.predict(test[features])\n",
    "    rmse = mean_squared_error(predictions, test['SalePrice'])**.5\n",
    "    return rmse\n",
    "transform_df = transform_features(df)\n",
    "filtered_df = select_features(transform_df)\n",
    "rmse = train_and_test(filtered_df)\n",
    "rmse"
   ]
  },
  {
   "cell_type": "markdown",
   "metadata": {},
   "source": [
    "# Feature Engineering\n",
    "- Which columns contain less than 5% missing values?\n",
    "- What new features can we create, that better capture the information in some of the features?\n",
    "- Which columns need to be dropped for other reasons?\n",
    "\n",
    "## Columns contain less than 5% \n",
    "\n",
    "- For numerical columns that meet this criteria, let's fill in the missing values using the most popular value for that column."
   ]
  },
  {
   "cell_type": "code",
   "execution_count": 3,
   "metadata": {
    "collapsed": false
   },
   "outputs": [],
   "source": [
    "# drop cols with more than 5% missing value\n",
    "mv_pct = df.isna().sum()/df.shape[0]\n",
    "mv_cols = mv_pct[mv_pct>.05].index\n",
    "df = df.drop(columns = mv_cols)"
   ]
  },
  {
   "cell_type": "code",
   "execution_count": 4,
   "metadata": {
    "collapsed": false
   },
   "outputs": [
    {
     "data": {
      "text/plain": [
       "Order              0\n",
       "PID                0\n",
       "MS SubClass        0\n",
       "Lot Area           0\n",
       "Overall Qual       0\n",
       "Overall Cond       0\n",
       "Year Built         0\n",
       "Year Remod/Add     0\n",
       "Mas Vnr Area       0\n",
       "BsmtFin SF 1       0\n",
       "BsmtFin SF 2       0\n",
       "Bsmt Unf SF        0\n",
       "Total Bsmt SF      0\n",
       "1st Flr SF         0\n",
       "2nd Flr SF         0\n",
       "Low Qual Fin SF    0\n",
       "Gr Liv Area        0\n",
       "Bsmt Full Bath     0\n",
       "Bsmt Half Bath     0\n",
       "Full Bath          0\n",
       "Half Bath          0\n",
       "Bedroom AbvGr      0\n",
       "Kitchen AbvGr      0\n",
       "TotRms AbvGrd      0\n",
       "Fireplaces         0\n",
       "Garage Cars        0\n",
       "Garage Area        0\n",
       "Wood Deck SF       0\n",
       "Open Porch SF      0\n",
       "Enclosed Porch     0\n",
       "3Ssn Porch         0\n",
       "Screen Porch       0\n",
       "Pool Area          0\n",
       "Misc Val           0\n",
       "Mo Sold            0\n",
       "Yr Sold            0\n",
       "SalePrice          0\n",
       "dtype: int64"
      ]
     },
     "execution_count": 4,
     "metadata": {},
     "output_type": "execute_result"
    }
   ],
   "source": [
    "# replace mode for numeric columns\n",
    "num_cols = df.select_dtypes(['int','float']).columns\n",
    "for col in num_cols:\n",
    "    df[col] = df[col].fillna(df[col].mode()[0])\n",
    "df[num_cols].isna().sum()"
   ]
  },
  {
   "cell_type": "code",
   "execution_count": 5,
   "metadata": {
    "collapsed": false
   },
   "outputs": [
    {
     "data": {
      "text/plain": [
       "MS Zoning         0\n",
       "Street            0\n",
       "Lot Shape         0\n",
       "Land Contour      0\n",
       "Utilities         0\n",
       "Lot Config        0\n",
       "Land Slope        0\n",
       "Neighborhood      0\n",
       "Condition 1       0\n",
       "Condition 2       0\n",
       "Bldg Type         0\n",
       "House Style       0\n",
       "Roof Style        0\n",
       "Roof Matl         0\n",
       "Exterior 1st      0\n",
       "Exterior 2nd      0\n",
       "Exter Qual        0\n",
       "Exter Cond        0\n",
       "Foundation        0\n",
       "Heating           0\n",
       "Heating QC        0\n",
       "Central Air       0\n",
       "Kitchen Qual      0\n",
       "Functional        0\n",
       "Paved Drive       0\n",
       "Sale Type         0\n",
       "Sale Condition    0\n",
       "dtype: int64"
      ]
     },
     "execution_count": 5,
     "metadata": {},
     "output_type": "execute_result"
    }
   ],
   "source": [
    "# drop text columns with any missing value\n",
    "text_cols = df.select_dtypes(['object']).columns\n",
    "text_mv_cols = df[text_cols].isna().sum()[df[text_cols].isna().sum() > 0].index\n",
    "df = df.drop(columns = text_mv_cols)\n",
    "df.select_dtypes(include='object').isna().sum()"
   ]
  },
  {
   "cell_type": "markdown",
   "metadata": {},
   "source": [
    "## New features\n",
    "- Create new features:\n",
    "    - `yr sold since built`, `yr sold since remod/add`\n",
    "    - difference between built, remod/add and `Sold Year`"
   ]
  },
  {
   "cell_type": "code",
   "execution_count": 6,
   "metadata": {
    "collapsed": false
   },
   "outputs": [
    {
     "data": {
      "text/html": [
       "<div>\n",
       "<style scoped>\n",
       "    .dataframe tbody tr th:only-of-type {\n",
       "        vertical-align: middle;\n",
       "    }\n",
       "\n",
       "    .dataframe tbody tr th {\n",
       "        vertical-align: top;\n",
       "    }\n",
       "\n",
       "    .dataframe thead th {\n",
       "        text-align: right;\n",
       "    }\n",
       "</style>\n",
       "<table border=\"1\" class=\"dataframe\">\n",
       "  <thead>\n",
       "    <tr style=\"text-align: right;\">\n",
       "      <th></th>\n",
       "      <th>Year Built</th>\n",
       "      <th>Year Remod/Add</th>\n",
       "      <th>Yr Sold</th>\n",
       "    </tr>\n",
       "  </thead>\n",
       "  <tbody>\n",
       "    <tr>\n",
       "      <th>0</th>\n",
       "      <td>1960</td>\n",
       "      <td>1960</td>\n",
       "      <td>2010</td>\n",
       "    </tr>\n",
       "    <tr>\n",
       "      <th>1</th>\n",
       "      <td>1961</td>\n",
       "      <td>1961</td>\n",
       "      <td>2010</td>\n",
       "    </tr>\n",
       "    <tr>\n",
       "      <th>2</th>\n",
       "      <td>1958</td>\n",
       "      <td>1958</td>\n",
       "      <td>2010</td>\n",
       "    </tr>\n",
       "    <tr>\n",
       "      <th>3</th>\n",
       "      <td>1968</td>\n",
       "      <td>1968</td>\n",
       "      <td>2010</td>\n",
       "    </tr>\n",
       "    <tr>\n",
       "      <th>4</th>\n",
       "      <td>1997</td>\n",
       "      <td>1998</td>\n",
       "      <td>2010</td>\n",
       "    </tr>\n",
       "  </tbody>\n",
       "</table>\n",
       "</div>"
      ],
      "text/plain": [
       "   Year Built  Year Remod/Add  Yr Sold\n",
       "0        1960            1960     2010\n",
       "1        1961            1961     2010\n",
       "2        1958            1958     2010\n",
       "3        1968            1968     2010\n",
       "4        1997            1998     2010"
      ]
     },
     "execution_count": 6,
     "metadata": {},
     "output_type": "execute_result"
    }
   ],
   "source": [
    "df[['Year Built','Year Remod/Add','Yr Sold']].head()"
   ]
  },
  {
   "cell_type": "code",
   "execution_count": 7,
   "metadata": {
    "collapsed": false
   },
   "outputs": [
    {
     "data": {
      "text/plain": [
       "(2927, 64)"
      ]
     },
     "execution_count": 7,
     "metadata": {},
     "output_type": "execute_result"
    }
   ],
   "source": [
    "df['yr sold since built'] = df['Yr Sold'] - df['Year Built'] \n",
    "df['yr sold since remod/add'] = df['Yr Sold'] - df['Year Remod/Add']\n",
    "df = df.drop(index = df['yr sold since built'][df['yr sold since built'] < 0].index)\n",
    "df = df.drop(index = df['yr sold since built'][df['yr sold since remod/add'] < 0].index)\n",
    "df = df.drop(columns=['Year Built','Year Remod/Add'])\n",
    "df.shape"
   ]
  },
  {
   "cell_type": "markdown",
   "metadata": {},
   "source": [
    "## Drop columns\n",
    "- Which columns aren't useful for machine learning?\n",
    "- Which columns leak data about the final sale?"
   ]
  },
  {
   "cell_type": "code",
   "execution_count": 8,
   "metadata": {
    "collapsed": false
   },
   "outputs": [],
   "source": [
    "## Drop columns that aren't useful for ML\n",
    "df = df.drop(columns = [\"PID\", \"Order\"])\n",
    "\n",
    "## Drop columns that leak info about the final sale\n",
    "df = df.drop(columns = [\"Mo Sold\", \"Sale Condition\", \"Sale Type\", \"Yr Sold\"])"
   ]
  },
  {
   "cell_type": "markdown",
   "metadata": {},
   "source": [
    "# Generate a correlation heatmap matrix of the numerical features in the training data set"
   ]
  },
  {
   "cell_type": "code",
   "execution_count": 9,
   "metadata": {
    "collapsed": false
   },
   "outputs": [
    {
     "data": {
      "text/plain": [
       "<matplotlib.axes._subplots.AxesSubplot at 0x7fb8e46cb668>"
      ]
     },
     "execution_count": 9,
     "metadata": {},
     "output_type": "execute_result"
    },
    {
     "data": {
      "image/png": "[encoded data removed]",
      "text/plain": [
       "<matplotlib.figure.Figure at 0x7fb8ea44ff28>"
      ]
     },
     "metadata": {},
     "output_type": "display_data"
    }
   ],
   "source": [
    "numeric_cols = df.select_dtypes(['int','float']).columns\n",
    "corr_mat = df[numeric_cols].corr()\n",
    "fig, ax = plt.subplots(figsize=(10,10))   \n",
    "sns.heatmap(corr_mat, ax = ax)"
   ]
  },
  {
   "cell_type": "markdown",
   "metadata": {},
   "source": [
    "## Calculate the correlation coefficients for the columns that seem to correlate well with `SalePrice`.\n",
    "- high correlation = 0.4  "
   ]
  },
  {
   "cell_type": "code",
   "execution_count": 10,
   "metadata": {
    "collapsed": false
   },
   "outputs": [
    {
     "name": "stderr",
     "output_type": "stream",
     "text": [
      "/dataquest/system/env/python3/lib/python3.4/site-packages/ipykernel/__main__.py:1: UserWarning: Boolean Series key will be reindexed to match DataFrame index.\n",
      "  if __name__ == '__main__':\n"
     ]
    },
    {
     "data": {
      "text/plain": [
       "Index(['Overall Qual', 'Mas Vnr Area', 'BsmtFin SF 1', 'Total Bsmt SF',\n",
       "       '1st Flr SF', 'Gr Liv Area', 'Full Bath', 'TotRms AbvGrd', 'Fireplaces',\n",
       "       'Garage Cars', 'Garage Area', 'SalePrice', 'yr sold since built',\n",
       "       'yr sold since remod/add'],\n",
       "      dtype='object')"
      ]
     },
     "execution_count": 10,
     "metadata": {},
     "output_type": "execute_result"
    }
   ],
   "source": [
    "high_corr_cols = corr_mat[corr_mat['SalePrice'].abs().sort_values() >.4].index\n",
    "high_corr_cols"
   ]
  },
  {
   "cell_type": "markdown",
   "metadata": {},
   "source": [
    "## Which columns in the data frame should be converted to the categorical data type? "
   ]
  },
  {
   "cell_type": "code",
   "execution_count": 11,
   "metadata": {
    "collapsed": false
   },
   "outputs": [
    {
     "name": "stdout",
     "output_type": "stream",
     "text": [
      "<class 'pandas.core.frame.DataFrame'>\n",
      "Int64Index: 2927 entries, 0 to 2929\n",
      "Data columns (total 14 columns):\n",
      "Overall Qual               2927 non-null int64\n",
      "Mas Vnr Area               2927 non-null float64\n",
      "BsmtFin SF 1               2927 non-null float64\n",
      "Total Bsmt SF              2927 non-null float64\n",
      "1st Flr SF                 2927 non-null int64\n",
      "Gr Liv Area                2927 non-null int64\n",
      "Full Bath                  2927 non-null int64\n",
      "TotRms AbvGrd              2927 non-null int64\n",
      "Fireplaces                 2927 non-null int64\n",
      "Garage Cars                2927 non-null float64\n",
      "Garage Area                2927 non-null float64\n",
      "SalePrice                  2927 non-null int64\n",
      "yr sold since built        2927 non-null int64\n",
      "yr sold since remod/add    2927 non-null int64\n",
      "dtypes: float64(5), int64(9)\n",
      "memory usage: 343.0 KB\n"
     ]
    }
   ],
   "source": [
    "df[high_corr_cols].info() # All high correlated columns are numerical. "
   ]
  },
  {
   "cell_type": "markdown",
   "metadata": {},
   "source": [
    "## Are there any ordinal variables?\n",
    "- Which columns are currently numerical but need to be encoded as categorical instead (because the numbers don't have any semantic meaning)?\n",
    "- How many unique value in `high_corr_cols`?\n",
    "    - unique_value less than or equal 10 defines as catagorial var"
   ]
  },
  {
   "cell_type": "code",
   "execution_count": 12,
   "metadata": {
    "collapsed": false
   },
   "outputs": [
    {
     "name": "stdout",
     "output_type": "stream",
     "text": [
      "<class 'pandas.core.frame.DataFrame'>\n",
      "Int64Index: 2927 entries, 0 to 2929\n",
      "Data columns (total 4 columns):\n",
      "Overall Qual    2927 non-null category\n",
      "Full Bath       2927 non-null category\n",
      "Fireplaces      2927 non-null category\n",
      "Garage Cars     2927 non-null category\n",
      "dtypes: category(4)\n",
      "memory usage: 35.3 KB\n"
     ]
    }
   ],
   "source": [
    "unique_value_count = df[high_corr_cols].apply(lambda col: len(col.unique()))\n",
    "cat_cols = unique_value_count[unique_value_count<=10].index\n",
    "for col in cat_cols:\n",
    "    df[col] = df[col].astype('category')\n",
    "df[cat_cols].info()"
   ]
  },
  {
   "cell_type": "code",
   "execution_count": 14,
   "metadata": {
    "collapsed": false
   },
   "outputs": [
    {
     "data": {
      "text/plain": [
       "(2927, 80)"
      ]
     },
     "execution_count": 14,
     "metadata": {},
     "output_type": "execute_result"
    }
   ],
   "source": [
    "reg_df = pd.concat([df, pd.get_dummies(df[cat_cols])],axis = 'columns').drop(columns = cat_cols)\n",
    "reg_df.shape"
   ]
  },
  {
   "cell_type": "code",
   "execution_count": 18,
   "metadata": {
    "collapsed": false
   },
   "outputs": [
    {
     "name": "stdout",
     "output_type": "stream",
     "text": [
      "[36320.00062039451, 24246.84965700123, 22569.269468466995, 23249.738500429354]\n"
     ]
    },
    {
     "data": {
      "text/plain": [
       "26596.46456157302"
      ]
     },
     "execution_count": 18,
     "metadata": {},
     "output_type": "execute_result"
    }
   ],
   "source": [
    "def train_and_test(df, k=0):\n",
    "    numeric_df = df.select_dtypes(include=['integer', 'float'])\n",
    "    features = numeric_df.columns.drop(\"SalePrice\")\n",
    "    lr = linear_model.LinearRegression()\n",
    "    \n",
    "    if k == 0:\n",
    "        train = df[:1460]\n",
    "        test = df[1460:]\n",
    "\n",
    "        lr.fit(train[features], train[\"SalePrice\"])\n",
    "        predictions = lr.predict(test[features])\n",
    "        mse = mean_squared_error(test[\"SalePrice\"], predictions)\n",
    "        rmse = np.sqrt(mse)\n",
    "\n",
    "        return rmse\n",
    "    \n",
    "    if k == 1:\n",
    "        # Randomize *all* rows (frac=1) from `df` and return\n",
    "        shuffled_df = df.sample(frac=1, )\n",
    "        train = df[:1460]\n",
    "        test = df[1460:]\n",
    "        \n",
    "        lr.fit(train[features], train[\"SalePrice\"])\n",
    "        predictions_one = lr.predict(test[features])        \n",
    "        \n",
    "        mse_one = mean_squared_error(test[\"SalePrice\"], predictions_one)\n",
    "        rmse_one = np.sqrt(mse_one)\n",
    "        \n",
    "        lr.fit(test[features], test[\"SalePrice\"])\n",
    "        predictions_two = lr.predict(train[features])        \n",
    "       \n",
    "        mse_two = mean_squared_error(train[\"SalePrice\"], predictions_two)\n",
    "        rmse_two = np.sqrt(mse_two)\n",
    "        \n",
    "        avg_rmse = np.mean([rmse_one, rmse_two])\n",
    "        print(rmse_one)\n",
    "        print(rmse_two)\n",
    "        return avg_rmse\n",
    "    else:\n",
    "        kf = KFold(n_splits=k, shuffle=True)\n",
    "        rmse_values = []\n",
    "        for train_index, test_index, in kf.split(df):\n",
    "            train = df.iloc[train_index]\n",
    "            test = df.iloc[test_index]\n",
    "            lr.fit(train[features], train[\"SalePrice\"])\n",
    "            predictions = lr.predict(test[features])\n",
    "            mse = mean_squared_error(test[\"SalePrice\"], predictions)\n",
    "            rmse = np.sqrt(mse)\n",
    "            rmse_values.append(rmse)\n",
    "        print(rmse_values)\n",
    "        avg_rmse = np.mean(rmse_values)\n",
    "        return avg_rmse\n",
    "\n",
    "rmse = train_and_test(reg_df, k=4)\n",
    "\n",
    "rmse"
   ]
  },
  {
   "cell_type": "code",
   "execution_count": 69,
   "metadata": {
    "collapsed": false
   },
   "outputs": [
    {
     "name": "stdout",
     "output_type": "stream",
     "text": [
      "[43147.26305479 30675.70747481 29180.30587968 32989.34343685]\n"
     ]
    },
    {
     "data": {
      "text/plain": [
       "33998.15496153287"
      ]
     },
     "execution_count": 69,
     "metadata": {},
     "output_type": "execute_result"
    }
   ],
   "source": [
    "reg_df = reg_df.select_dtypes(['int','float'])\n",
    "cross_val_score_rmse = abs(cross_val_score(linear_model.LinearRegression(), \n",
    "                X = reg_df.drop(columns = ['SalePrice']),\n",
    "                y = reg_df['SalePrice'],\n",
    "                scoring = 'neg_mean_squared_error',\n",
    "                cv = KFold(n_splits = 4,\n",
    "                           shuffle = True,\n",
    "                           random_state = 1)\n",
    "               ))**.5\n",
    "print(cross_val_score_rmse)\n",
    "cross_val_score_rmse.mean()"
   ]
  }
 ],
 "metadata": {
  "anaconda-cloud": {},
  "kernelspec": {
   "display_name": "Python 3",
   "language": "python",
   "name": "python3"
  },
  "language_info": {
   "codemirror_mode": {
    "name": "ipython",
    "version": 3
   },
   "file_extension": ".py",
   "mimetype": "text/x-python",
   "name": "python",
   "nbconvert_exporter": "python",
   "pygments_lexer": "ipython3",
   "version": "3.4.3"
  }
 },
 "nbformat": 4,
 "nbformat_minor": 2
}
