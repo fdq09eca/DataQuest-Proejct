{
 "cells": [
  {
   "cell_type": "markdown",
   "metadata": {},
   "source": [
    "# Goals\n",
    "\n",
    "- Find out the two best markets to advertise our products.\n",
    "    - Where are the new coders located.\n",
    "    - What are the locations with the greatest number of new coders.\n",
    "    - How much money new coders are willing to spend on learning.\n",
    "\n",
    "## Data\n",
    "[freeCodeCamp's 2017 New Coder Survey](https://www.freecodecamp.org/news/we-asked-20-000-people-who-they-are-and-how-theyre-learning-to-code-fff5d668969/) is used in this project. [freeCodeCamp](https://www.freecodecamp.org/) is a free e-learning platform that offers courses on web development. Because they [run a popular Medium publication](https://medium.freecodecamp.org/) (over 400,000 followers), their survey attracted new coders with varying interests (not only web development), which is ideal for the purpose of our analysis.\n",
    "\n",
    "The survey data is publicly available in [this GitHub repository](https://github.com/freeCodeCamp/2017-new-coder-survey)."
   ]
  },
  {
   "cell_type": "code",
   "execution_count": 1,
   "metadata": {
    "collapsed": false,
    "scrolled": true
   },
   "outputs": [
    {
     "name": "stdout",
     "output_type": "stream",
     "text": [
      "<class 'pandas.core.frame.DataFrame'>\n",
      "RangeIndex: 18175 entries, 0 to 18174\n",
      "Columns: 136 entries, Age to YouTubeTheNewBoston\n",
      "dtypes: float64(105), object(31)\n",
      "memory usage: 18.9+ MB\n"
     ]
    }
   ],
   "source": [
    "import pandas as pd\n",
    "pd.set_option('display.max_columns', 500)\n",
    "pd.set_option('display.width', 1000)\n",
    "import numpy as np\n",
    "%matplotlib inline\n",
    "import matplotlib.pyplot as plt\n",
    "## Import Data\n",
    "df_fcc = pd.read_csv('2017-fCC-New-Coders-Survey-Data.csv', low_memory=False)\n",
    "df_fcc.info()"
   ]
  },
  {
   "cell_type": "code",
   "execution_count": 2,
   "metadata": {
    "collapsed": false,
    "scrolled": true
   },
   "outputs": [
    {
     "data": {
      "text/html": [
       "<div>\n",
       "<style scoped>\n",
       "    .dataframe tbody tr th:only-of-type {\n",
       "        vertical-align: middle;\n",
       "    }\n",
       "\n",
       "    .dataframe tbody tr th {\n",
       "        vertical-align: top;\n",
       "    }\n",
       "\n",
       "    .dataframe thead th {\n",
       "        text-align: right;\n",
       "    }\n",
       "</style>\n",
       "<table border=\"1\" class=\"dataframe\">\n",
       "  <thead>\n",
       "    <tr style=\"text-align: right;\">\n",
       "      <th></th>\n",
       "      <th>Age</th>\n",
       "      <th>AttendedBootcamp</th>\n",
       "      <th>BootcampFinish</th>\n",
       "      <th>BootcampLoanYesNo</th>\n",
       "      <th>BootcampName</th>\n",
       "      <th>BootcampRecommend</th>\n",
       "      <th>ChildrenNumber</th>\n",
       "      <th>CityPopulation</th>\n",
       "      <th>CodeEventConferences</th>\n",
       "      <th>CodeEventDjangoGirls</th>\n",
       "      <th>CodeEventFCC</th>\n",
       "      <th>CodeEventGameJam</th>\n",
       "      <th>CodeEventGirlDev</th>\n",
       "      <th>CodeEventHackathons</th>\n",
       "      <th>CodeEventMeetup</th>\n",
       "      <th>CodeEventNodeSchool</th>\n",
       "      <th>CodeEventNone</th>\n",
       "      <th>CodeEventOther</th>\n",
       "      <th>CodeEventRailsBridge</th>\n",
       "      <th>CodeEventRailsGirls</th>\n",
       "      <th>CodeEventStartUpWknd</th>\n",
       "      <th>CodeEventWkdBootcamps</th>\n",
       "      <th>CodeEventWomenCode</th>\n",
       "      <th>CodeEventWorkshops</th>\n",
       "      <th>CommuteTime</th>\n",
       "      <th>CountryCitizen</th>\n",
       "      <th>CountryLive</th>\n",
       "      <th>EmploymentField</th>\n",
       "      <th>EmploymentFieldOther</th>\n",
       "      <th>EmploymentStatus</th>\n",
       "      <th>EmploymentStatusOther</th>\n",
       "      <th>ExpectedEarning</th>\n",
       "      <th>FinanciallySupporting</th>\n",
       "      <th>FirstDevJob</th>\n",
       "      <th>Gender</th>\n",
       "      <th>GenderOther</th>\n",
       "      <th>HasChildren</th>\n",
       "      <th>HasDebt</th>\n",
       "      <th>HasFinancialDependents</th>\n",
       "      <th>HasHighSpdInternet</th>\n",
       "      <th>HasHomeMortgage</th>\n",
       "      <th>HasServedInMilitary</th>\n",
       "      <th>HasStudentDebt</th>\n",
       "      <th>HomeMortgageOwe</th>\n",
       "      <th>HoursLearning</th>\n",
       "      <th>ID.x</th>\n",
       "      <th>ID.y</th>\n",
       "      <th>Income</th>\n",
       "      <th>IsEthnicMinority</th>\n",
       "      <th>IsReceiveDisabilitiesBenefits</th>\n",
       "      <th>IsSoftwareDev</th>\n",
       "      <th>IsUnderEmployed</th>\n",
       "      <th>JobApplyWhen</th>\n",
       "      <th>JobInterestBackEnd</th>\n",
       "      <th>JobInterestDataEngr</th>\n",
       "      <th>JobInterestDataSci</th>\n",
       "      <th>JobInterestDevOps</th>\n",
       "      <th>JobInterestFrontEnd</th>\n",
       "      <th>JobInterestFullStack</th>\n",
       "      <th>JobInterestGameDev</th>\n",
       "      <th>JobInterestInfoSec</th>\n",
       "      <th>JobInterestMobile</th>\n",
       "      <th>JobInterestOther</th>\n",
       "      <th>JobInterestProjMngr</th>\n",
       "      <th>JobInterestQAEngr</th>\n",
       "      <th>JobInterestUX</th>\n",
       "      <th>JobPref</th>\n",
       "      <th>JobRelocateYesNo</th>\n",
       "      <th>JobRoleInterest</th>\n",
       "      <th>JobWherePref</th>\n",
       "      <th>LanguageAtHome</th>\n",
       "      <th>MaritalStatus</th>\n",
       "      <th>MoneyForLearning</th>\n",
       "      <th>MonthsProgramming</th>\n",
       "      <th>NetworkID</th>\n",
       "      <th>Part1EndTime</th>\n",
       "      <th>Part1StartTime</th>\n",
       "      <th>Part2EndTime</th>\n",
       "      <th>Part2StartTime</th>\n",
       "      <th>PodcastChangeLog</th>\n",
       "      <th>PodcastCodeNewbie</th>\n",
       "      <th>PodcastCodePen</th>\n",
       "      <th>PodcastDevTea</th>\n",
       "      <th>PodcastDotNET</th>\n",
       "      <th>PodcastGiantRobots</th>\n",
       "      <th>PodcastJSAir</th>\n",
       "      <th>PodcastJSJabber</th>\n",
       "      <th>PodcastNone</th>\n",
       "      <th>PodcastOther</th>\n",
       "      <th>PodcastProgThrowdown</th>\n",
       "      <th>PodcastRubyRogues</th>\n",
       "      <th>PodcastSEDaily</th>\n",
       "      <th>PodcastSERadio</th>\n",
       "      <th>PodcastShopTalk</th>\n",
       "      <th>PodcastTalkPython</th>\n",
       "      <th>PodcastTheWebAhead</th>\n",
       "      <th>ResourceCodecademy</th>\n",
       "      <th>ResourceCodeWars</th>\n",
       "      <th>ResourceCoursera</th>\n",
       "      <th>ResourceCSS</th>\n",
       "      <th>ResourceEdX</th>\n",
       "      <th>ResourceEgghead</th>\n",
       "      <th>ResourceFCC</th>\n",
       "      <th>ResourceHackerRank</th>\n",
       "      <th>ResourceKA</th>\n",
       "      <th>ResourceLynda</th>\n",
       "      <th>ResourceMDN</th>\n",
       "      <th>ResourceOdinProj</th>\n",
       "      <th>ResourceOther</th>\n",
       "      <th>ResourcePluralSight</th>\n",
       "      <th>ResourceSkillcrush</th>\n",
       "      <th>ResourceSO</th>\n",
       "      <th>ResourceTreehouse</th>\n",
       "      <th>ResourceUdacity</th>\n",
       "      <th>ResourceUdemy</th>\n",
       "      <th>ResourceW3S</th>\n",
       "      <th>SchoolDegree</th>\n",
       "      <th>SchoolMajor</th>\n",
       "      <th>StudentDebtOwe</th>\n",
       "      <th>YouTubeCodeCourse</th>\n",
       "      <th>YouTubeCodingTrain</th>\n",
       "      <th>YouTubeCodingTut360</th>\n",
       "      <th>YouTubeComputerphile</th>\n",
       "      <th>YouTubeDerekBanas</th>\n",
       "      <th>YouTubeDevTips</th>\n",
       "      <th>YouTubeEngineeredTruth</th>\n",
       "      <th>YouTubeFCC</th>\n",
       "      <th>YouTubeFunFunFunction</th>\n",
       "      <th>YouTubeGoogleDev</th>\n",
       "      <th>YouTubeLearnCode</th>\n",
       "      <th>YouTubeLevelUpTuts</th>\n",
       "      <th>YouTubeMIT</th>\n",
       "      <th>YouTubeMozillaHacks</th>\n",
       "      <th>YouTubeOther</th>\n",
       "      <th>YouTubeSimplilearn</th>\n",
       "      <th>YouTubeTheNewBoston</th>\n",
       "    </tr>\n",
       "  </thead>\n",
       "  <tbody>\n",
       "    <tr>\n",
       "      <th>0</th>\n",
       "      <td>27.0</td>\n",
       "      <td>0.0</td>\n",
       "      <td>NaN</td>\n",
       "      <td>NaN</td>\n",
       "      <td>NaN</td>\n",
       "      <td>NaN</td>\n",
       "      <td>NaN</td>\n",
       "      <td>more than 1 million</td>\n",
       "      <td>NaN</td>\n",
       "      <td>NaN</td>\n",
       "      <td>NaN</td>\n",
       "      <td>NaN</td>\n",
       "      <td>NaN</td>\n",
       "      <td>NaN</td>\n",
       "      <td>NaN</td>\n",
       "      <td>NaN</td>\n",
       "      <td>NaN</td>\n",
       "      <td>NaN</td>\n",
       "      <td>NaN</td>\n",
       "      <td>NaN</td>\n",
       "      <td>NaN</td>\n",
       "      <td>NaN</td>\n",
       "      <td>NaN</td>\n",
       "      <td>NaN</td>\n",
       "      <td>15 to 29 minutes</td>\n",
       "      <td>Canada</td>\n",
       "      <td>Canada</td>\n",
       "      <td>software development and IT</td>\n",
       "      <td>NaN</td>\n",
       "      <td>Employed for wages</td>\n",
       "      <td>NaN</td>\n",
       "      <td>NaN</td>\n",
       "      <td>NaN</td>\n",
       "      <td>NaN</td>\n",
       "      <td>female</td>\n",
       "      <td>NaN</td>\n",
       "      <td>NaN</td>\n",
       "      <td>1.0</td>\n",
       "      <td>0.0</td>\n",
       "      <td>1.0</td>\n",
       "      <td>0.0</td>\n",
       "      <td>0.0</td>\n",
       "      <td>0.0</td>\n",
       "      <td>NaN</td>\n",
       "      <td>15.0</td>\n",
       "      <td>02d9465b21e8bd09374b0066fb2d5614</td>\n",
       "      <td>eb78c1c3ac6cd9052aec557065070fbf</td>\n",
       "      <td>NaN</td>\n",
       "      <td>NaN</td>\n",
       "      <td>0.0</td>\n",
       "      <td>0.0</td>\n",
       "      <td>0.0</td>\n",
       "      <td>NaN</td>\n",
       "      <td>NaN</td>\n",
       "      <td>NaN</td>\n",
       "      <td>NaN</td>\n",
       "      <td>NaN</td>\n",
       "      <td>NaN</td>\n",
       "      <td>NaN</td>\n",
       "      <td>NaN</td>\n",
       "      <td>NaN</td>\n",
       "      <td>NaN</td>\n",
       "      <td>NaN</td>\n",
       "      <td>NaN</td>\n",
       "      <td>NaN</td>\n",
       "      <td>NaN</td>\n",
       "      <td>start your own business</td>\n",
       "      <td>NaN</td>\n",
       "      <td>NaN</td>\n",
       "      <td>NaN</td>\n",
       "      <td>English</td>\n",
       "      <td>married or domestic partnership</td>\n",
       "      <td>150.0</td>\n",
       "      <td>6.0</td>\n",
       "      <td>6f1fbc6b2b</td>\n",
       "      <td>2017-03-09 00:36:22</td>\n",
       "      <td>2017-03-09 00:32:59</td>\n",
       "      <td>2017-03-09 00:59:46</td>\n",
       "      <td>2017-03-09 00:36:26</td>\n",
       "      <td>NaN</td>\n",
       "      <td>NaN</td>\n",
       "      <td>NaN</td>\n",
       "      <td>1.0</td>\n",
       "      <td>NaN</td>\n",
       "      <td>NaN</td>\n",
       "      <td>NaN</td>\n",
       "      <td>NaN</td>\n",
       "      <td>NaN</td>\n",
       "      <td>NaN</td>\n",
       "      <td>NaN</td>\n",
       "      <td>NaN</td>\n",
       "      <td>NaN</td>\n",
       "      <td>NaN</td>\n",
       "      <td>NaN</td>\n",
       "      <td>NaN</td>\n",
       "      <td>NaN</td>\n",
       "      <td>1.0</td>\n",
       "      <td>NaN</td>\n",
       "      <td>NaN</td>\n",
       "      <td>NaN</td>\n",
       "      <td>NaN</td>\n",
       "      <td>NaN</td>\n",
       "      <td>1.0</td>\n",
       "      <td>NaN</td>\n",
       "      <td>NaN</td>\n",
       "      <td>NaN</td>\n",
       "      <td>1.0</td>\n",
       "      <td>NaN</td>\n",
       "      <td>NaN</td>\n",
       "      <td>NaN</td>\n",
       "      <td>NaN</td>\n",
       "      <td>NaN</td>\n",
       "      <td>NaN</td>\n",
       "      <td>NaN</td>\n",
       "      <td>1.0</td>\n",
       "      <td>1.0</td>\n",
       "      <td>some college credit, no degree</td>\n",
       "      <td>NaN</td>\n",
       "      <td>NaN</td>\n",
       "      <td>NaN</td>\n",
       "      <td>NaN</td>\n",
       "      <td>NaN</td>\n",
       "      <td>NaN</td>\n",
       "      <td>NaN</td>\n",
       "      <td>NaN</td>\n",
       "      <td>NaN</td>\n",
       "      <td>NaN</td>\n",
       "      <td>NaN</td>\n",
       "      <td>NaN</td>\n",
       "      <td>NaN</td>\n",
       "      <td>NaN</td>\n",
       "      <td>NaN</td>\n",
       "      <td>NaN</td>\n",
       "      <td>NaN</td>\n",
       "      <td>NaN</td>\n",
       "      <td>NaN</td>\n",
       "    </tr>\n",
       "    <tr>\n",
       "      <th>1</th>\n",
       "      <td>34.0</td>\n",
       "      <td>0.0</td>\n",
       "      <td>NaN</td>\n",
       "      <td>NaN</td>\n",
       "      <td>NaN</td>\n",
       "      <td>NaN</td>\n",
       "      <td>NaN</td>\n",
       "      <td>less than 100,000</td>\n",
       "      <td>NaN</td>\n",
       "      <td>NaN</td>\n",
       "      <td>NaN</td>\n",
       "      <td>NaN</td>\n",
       "      <td>NaN</td>\n",
       "      <td>NaN</td>\n",
       "      <td>NaN</td>\n",
       "      <td>NaN</td>\n",
       "      <td>NaN</td>\n",
       "      <td>NaN</td>\n",
       "      <td>NaN</td>\n",
       "      <td>NaN</td>\n",
       "      <td>NaN</td>\n",
       "      <td>NaN</td>\n",
       "      <td>NaN</td>\n",
       "      <td>NaN</td>\n",
       "      <td>NaN</td>\n",
       "      <td>United States of America</td>\n",
       "      <td>United States of America</td>\n",
       "      <td>NaN</td>\n",
       "      <td>NaN</td>\n",
       "      <td>Not working but looking for work</td>\n",
       "      <td>NaN</td>\n",
       "      <td>35000.0</td>\n",
       "      <td>NaN</td>\n",
       "      <td>NaN</td>\n",
       "      <td>male</td>\n",
       "      <td>NaN</td>\n",
       "      <td>NaN</td>\n",
       "      <td>1.0</td>\n",
       "      <td>0.0</td>\n",
       "      <td>1.0</td>\n",
       "      <td>0.0</td>\n",
       "      <td>0.0</td>\n",
       "      <td>1.0</td>\n",
       "      <td>NaN</td>\n",
       "      <td>10.0</td>\n",
       "      <td>5bfef9ecb211ec4f518cfc1d2a6f3e0c</td>\n",
       "      <td>21db37adb60cdcafadfa7dca1b13b6b1</td>\n",
       "      <td>NaN</td>\n",
       "      <td>0.0</td>\n",
       "      <td>0.0</td>\n",
       "      <td>0.0</td>\n",
       "      <td>NaN</td>\n",
       "      <td>Within 7 to 12 months</td>\n",
       "      <td>NaN</td>\n",
       "      <td>NaN</td>\n",
       "      <td>NaN</td>\n",
       "      <td>NaN</td>\n",
       "      <td>NaN</td>\n",
       "      <td>1.0</td>\n",
       "      <td>NaN</td>\n",
       "      <td>NaN</td>\n",
       "      <td>NaN</td>\n",
       "      <td>NaN</td>\n",
       "      <td>NaN</td>\n",
       "      <td>NaN</td>\n",
       "      <td>NaN</td>\n",
       "      <td>work for a nonprofit</td>\n",
       "      <td>1.0</td>\n",
       "      <td>Full-Stack Web Developer</td>\n",
       "      <td>in an office with other developers</td>\n",
       "      <td>English</td>\n",
       "      <td>single, never married</td>\n",
       "      <td>80.0</td>\n",
       "      <td>6.0</td>\n",
       "      <td>f8f8be6910</td>\n",
       "      <td>2017-03-09 00:37:07</td>\n",
       "      <td>2017-03-09 00:33:26</td>\n",
       "      <td>2017-03-09 00:38:59</td>\n",
       "      <td>2017-03-09 00:37:10</td>\n",
       "      <td>NaN</td>\n",
       "      <td>1.0</td>\n",
       "      <td>NaN</td>\n",
       "      <td>NaN</td>\n",
       "      <td>NaN</td>\n",
       "      <td>NaN</td>\n",
       "      <td>NaN</td>\n",
       "      <td>NaN</td>\n",
       "      <td>NaN</td>\n",
       "      <td>NaN</td>\n",
       "      <td>NaN</td>\n",
       "      <td>NaN</td>\n",
       "      <td>NaN</td>\n",
       "      <td>NaN</td>\n",
       "      <td>NaN</td>\n",
       "      <td>NaN</td>\n",
       "      <td>NaN</td>\n",
       "      <td>1.0</td>\n",
       "      <td>NaN</td>\n",
       "      <td>NaN</td>\n",
       "      <td>1.0</td>\n",
       "      <td>NaN</td>\n",
       "      <td>NaN</td>\n",
       "      <td>1.0</td>\n",
       "      <td>NaN</td>\n",
       "      <td>NaN</td>\n",
       "      <td>NaN</td>\n",
       "      <td>NaN</td>\n",
       "      <td>NaN</td>\n",
       "      <td>NaN</td>\n",
       "      <td>NaN</td>\n",
       "      <td>NaN</td>\n",
       "      <td>1.0</td>\n",
       "      <td>NaN</td>\n",
       "      <td>NaN</td>\n",
       "      <td>1.0</td>\n",
       "      <td>1.0</td>\n",
       "      <td>some college credit, no degree</td>\n",
       "      <td>NaN</td>\n",
       "      <td>NaN</td>\n",
       "      <td>NaN</td>\n",
       "      <td>NaN</td>\n",
       "      <td>NaN</td>\n",
       "      <td>NaN</td>\n",
       "      <td>NaN</td>\n",
       "      <td>NaN</td>\n",
       "      <td>NaN</td>\n",
       "      <td>1.0</td>\n",
       "      <td>NaN</td>\n",
       "      <td>NaN</td>\n",
       "      <td>NaN</td>\n",
       "      <td>NaN</td>\n",
       "      <td>NaN</td>\n",
       "      <td>NaN</td>\n",
       "      <td>NaN</td>\n",
       "      <td>NaN</td>\n",
       "      <td>NaN</td>\n",
       "    </tr>\n",
       "    <tr>\n",
       "      <th>2</th>\n",
       "      <td>21.0</td>\n",
       "      <td>0.0</td>\n",
       "      <td>NaN</td>\n",
       "      <td>NaN</td>\n",
       "      <td>NaN</td>\n",
       "      <td>NaN</td>\n",
       "      <td>NaN</td>\n",
       "      <td>more than 1 million</td>\n",
       "      <td>NaN</td>\n",
       "      <td>NaN</td>\n",
       "      <td>NaN</td>\n",
       "      <td>NaN</td>\n",
       "      <td>NaN</td>\n",
       "      <td>1.0</td>\n",
       "      <td>NaN</td>\n",
       "      <td>1.0</td>\n",
       "      <td>NaN</td>\n",
       "      <td>NaN</td>\n",
       "      <td>NaN</td>\n",
       "      <td>NaN</td>\n",
       "      <td>NaN</td>\n",
       "      <td>NaN</td>\n",
       "      <td>NaN</td>\n",
       "      <td>NaN</td>\n",
       "      <td>15 to 29 minutes</td>\n",
       "      <td>United States of America</td>\n",
       "      <td>United States of America</td>\n",
       "      <td>software development and IT</td>\n",
       "      <td>NaN</td>\n",
       "      <td>Employed for wages</td>\n",
       "      <td>NaN</td>\n",
       "      <td>70000.0</td>\n",
       "      <td>NaN</td>\n",
       "      <td>NaN</td>\n",
       "      <td>male</td>\n",
       "      <td>NaN</td>\n",
       "      <td>NaN</td>\n",
       "      <td>0.0</td>\n",
       "      <td>0.0</td>\n",
       "      <td>1.0</td>\n",
       "      <td>NaN</td>\n",
       "      <td>0.0</td>\n",
       "      <td>NaN</td>\n",
       "      <td>NaN</td>\n",
       "      <td>25.0</td>\n",
       "      <td>14f1863afa9c7de488050b82eb3edd96</td>\n",
       "      <td>21ba173828fbe9e27ccebaf4d5166a55</td>\n",
       "      <td>13000.0</td>\n",
       "      <td>1.0</td>\n",
       "      <td>0.0</td>\n",
       "      <td>0.0</td>\n",
       "      <td>0.0</td>\n",
       "      <td>Within 7 to 12 months</td>\n",
       "      <td>1.0</td>\n",
       "      <td>NaN</td>\n",
       "      <td>NaN</td>\n",
       "      <td>1.0</td>\n",
       "      <td>1.0</td>\n",
       "      <td>1.0</td>\n",
       "      <td>NaN</td>\n",
       "      <td>NaN</td>\n",
       "      <td>1.0</td>\n",
       "      <td>NaN</td>\n",
       "      <td>NaN</td>\n",
       "      <td>NaN</td>\n",
       "      <td>NaN</td>\n",
       "      <td>work for a medium-sized company</td>\n",
       "      <td>1.0</td>\n",
       "      <td>Front-End Web Developer, Back-End Web Develo...</td>\n",
       "      <td>no preference</td>\n",
       "      <td>Spanish</td>\n",
       "      <td>single, never married</td>\n",
       "      <td>1000.0</td>\n",
       "      <td>5.0</td>\n",
       "      <td>2ed189768e</td>\n",
       "      <td>2017-03-09 00:37:58</td>\n",
       "      <td>2017-03-09 00:33:53</td>\n",
       "      <td>2017-03-09 00:40:14</td>\n",
       "      <td>2017-03-09 00:38:02</td>\n",
       "      <td>1.0</td>\n",
       "      <td>NaN</td>\n",
       "      <td>1.0</td>\n",
       "      <td>NaN</td>\n",
       "      <td>NaN</td>\n",
       "      <td>NaN</td>\n",
       "      <td>NaN</td>\n",
       "      <td>NaN</td>\n",
       "      <td>NaN</td>\n",
       "      <td>Codenewbie</td>\n",
       "      <td>NaN</td>\n",
       "      <td>NaN</td>\n",
       "      <td>NaN</td>\n",
       "      <td>NaN</td>\n",
       "      <td>1.0</td>\n",
       "      <td>NaN</td>\n",
       "      <td>NaN</td>\n",
       "      <td>1.0</td>\n",
       "      <td>NaN</td>\n",
       "      <td>NaN</td>\n",
       "      <td>1.0</td>\n",
       "      <td>NaN</td>\n",
       "      <td>NaN</td>\n",
       "      <td>1.0</td>\n",
       "      <td>NaN</td>\n",
       "      <td>NaN</td>\n",
       "      <td>NaN</td>\n",
       "      <td>1.0</td>\n",
       "      <td>NaN</td>\n",
       "      <td>NaN</td>\n",
       "      <td>NaN</td>\n",
       "      <td>NaN</td>\n",
       "      <td>NaN</td>\n",
       "      <td>NaN</td>\n",
       "      <td>1.0</td>\n",
       "      <td>1.0</td>\n",
       "      <td>NaN</td>\n",
       "      <td>high school diploma or equivalent (GED)</td>\n",
       "      <td>NaN</td>\n",
       "      <td>NaN</td>\n",
       "      <td>NaN</td>\n",
       "      <td>NaN</td>\n",
       "      <td>1.0</td>\n",
       "      <td>NaN</td>\n",
       "      <td>1.0</td>\n",
       "      <td>1.0</td>\n",
       "      <td>NaN</td>\n",
       "      <td>NaN</td>\n",
       "      <td>NaN</td>\n",
       "      <td>NaN</td>\n",
       "      <td>1.0</td>\n",
       "      <td>1.0</td>\n",
       "      <td>NaN</td>\n",
       "      <td>NaN</td>\n",
       "      <td>NaN</td>\n",
       "      <td>NaN</td>\n",
       "      <td>NaN</td>\n",
       "    </tr>\n",
       "    <tr>\n",
       "      <th>3</th>\n",
       "      <td>26.0</td>\n",
       "      <td>0.0</td>\n",
       "      <td>NaN</td>\n",
       "      <td>NaN</td>\n",
       "      <td>NaN</td>\n",
       "      <td>NaN</td>\n",
       "      <td>NaN</td>\n",
       "      <td>between 100,000 and 1 million</td>\n",
       "      <td>NaN</td>\n",
       "      <td>NaN</td>\n",
       "      <td>NaN</td>\n",
       "      <td>NaN</td>\n",
       "      <td>NaN</td>\n",
       "      <td>NaN</td>\n",
       "      <td>NaN</td>\n",
       "      <td>NaN</td>\n",
       "      <td>NaN</td>\n",
       "      <td>NaN</td>\n",
       "      <td>NaN</td>\n",
       "      <td>NaN</td>\n",
       "      <td>NaN</td>\n",
       "      <td>NaN</td>\n",
       "      <td>NaN</td>\n",
       "      <td>NaN</td>\n",
       "      <td>I work from home</td>\n",
       "      <td>Brazil</td>\n",
       "      <td>Brazil</td>\n",
       "      <td>software development and IT</td>\n",
       "      <td>NaN</td>\n",
       "      <td>Employed for wages</td>\n",
       "      <td>NaN</td>\n",
       "      <td>40000.0</td>\n",
       "      <td>0.0</td>\n",
       "      <td>NaN</td>\n",
       "      <td>male</td>\n",
       "      <td>NaN</td>\n",
       "      <td>0.0</td>\n",
       "      <td>1.0</td>\n",
       "      <td>1.0</td>\n",
       "      <td>1.0</td>\n",
       "      <td>1.0</td>\n",
       "      <td>0.0</td>\n",
       "      <td>0.0</td>\n",
       "      <td>40000.0</td>\n",
       "      <td>14.0</td>\n",
       "      <td>91756eb4dc280062a541c25a3d44cfb0</td>\n",
       "      <td>3be37b558f02daae93a6da10f83f0c77</td>\n",
       "      <td>24000.0</td>\n",
       "      <td>0.0</td>\n",
       "      <td>0.0</td>\n",
       "      <td>0.0</td>\n",
       "      <td>1.0</td>\n",
       "      <td>Within the next 6 months</td>\n",
       "      <td>1.0</td>\n",
       "      <td>NaN</td>\n",
       "      <td>NaN</td>\n",
       "      <td>NaN</td>\n",
       "      <td>1.0</td>\n",
       "      <td>1.0</td>\n",
       "      <td>NaN</td>\n",
       "      <td>NaN</td>\n",
       "      <td>NaN</td>\n",
       "      <td>NaN</td>\n",
       "      <td>NaN</td>\n",
       "      <td>NaN</td>\n",
       "      <td>NaN</td>\n",
       "      <td>work for a medium-sized company</td>\n",
       "      <td>NaN</td>\n",
       "      <td>Front-End Web Developer, Full-Stack Web Deve...</td>\n",
       "      <td>from home</td>\n",
       "      <td>Portuguese</td>\n",
       "      <td>married or domestic partnership</td>\n",
       "      <td>0.0</td>\n",
       "      <td>5.0</td>\n",
       "      <td>dbdc0664d1</td>\n",
       "      <td>2017-03-09 00:40:13</td>\n",
       "      <td>2017-03-09 00:37:45</td>\n",
       "      <td>2017-03-09 00:42:26</td>\n",
       "      <td>2017-03-09 00:40:18</td>\n",
       "      <td>NaN</td>\n",
       "      <td>NaN</td>\n",
       "      <td>NaN</td>\n",
       "      <td>NaN</td>\n",
       "      <td>NaN</td>\n",
       "      <td>NaN</td>\n",
       "      <td>NaN</td>\n",
       "      <td>NaN</td>\n",
       "      <td>NaN</td>\n",
       "      <td>NaN</td>\n",
       "      <td>NaN</td>\n",
       "      <td>NaN</td>\n",
       "      <td>NaN</td>\n",
       "      <td>NaN</td>\n",
       "      <td>NaN</td>\n",
       "      <td>NaN</td>\n",
       "      <td>NaN</td>\n",
       "      <td>NaN</td>\n",
       "      <td>NaN</td>\n",
       "      <td>NaN</td>\n",
       "      <td>NaN</td>\n",
       "      <td>NaN</td>\n",
       "      <td>1.0</td>\n",
       "      <td>1.0</td>\n",
       "      <td>NaN</td>\n",
       "      <td>NaN</td>\n",
       "      <td>NaN</td>\n",
       "      <td>1.0</td>\n",
       "      <td>NaN</td>\n",
       "      <td>NaN</td>\n",
       "      <td>NaN</td>\n",
       "      <td>NaN</td>\n",
       "      <td>1.0</td>\n",
       "      <td>NaN</td>\n",
       "      <td>NaN</td>\n",
       "      <td>NaN</td>\n",
       "      <td>NaN</td>\n",
       "      <td>some college credit, no degree</td>\n",
       "      <td>NaN</td>\n",
       "      <td>NaN</td>\n",
       "      <td>NaN</td>\n",
       "      <td>NaN</td>\n",
       "      <td>NaN</td>\n",
       "      <td>NaN</td>\n",
       "      <td>NaN</td>\n",
       "      <td>1.0</td>\n",
       "      <td>NaN</td>\n",
       "      <td>1.0</td>\n",
       "      <td>1.0</td>\n",
       "      <td>NaN</td>\n",
       "      <td>NaN</td>\n",
       "      <td>1.0</td>\n",
       "      <td>NaN</td>\n",
       "      <td>NaN</td>\n",
       "      <td>NaN</td>\n",
       "      <td>NaN</td>\n",
       "      <td>NaN</td>\n",
       "    </tr>\n",
       "    <tr>\n",
       "      <th>4</th>\n",
       "      <td>20.0</td>\n",
       "      <td>0.0</td>\n",
       "      <td>NaN</td>\n",
       "      <td>NaN</td>\n",
       "      <td>NaN</td>\n",
       "      <td>NaN</td>\n",
       "      <td>NaN</td>\n",
       "      <td>between 100,000 and 1 million</td>\n",
       "      <td>NaN</td>\n",
       "      <td>NaN</td>\n",
       "      <td>NaN</td>\n",
       "      <td>NaN</td>\n",
       "      <td>NaN</td>\n",
       "      <td>NaN</td>\n",
       "      <td>NaN</td>\n",
       "      <td>NaN</td>\n",
       "      <td>NaN</td>\n",
       "      <td>NaN</td>\n",
       "      <td>NaN</td>\n",
       "      <td>NaN</td>\n",
       "      <td>NaN</td>\n",
       "      <td>NaN</td>\n",
       "      <td>NaN</td>\n",
       "      <td>NaN</td>\n",
       "      <td>NaN</td>\n",
       "      <td>Portugal</td>\n",
       "      <td>Portugal</td>\n",
       "      <td>NaN</td>\n",
       "      <td>NaN</td>\n",
       "      <td>Not working but looking for work</td>\n",
       "      <td>NaN</td>\n",
       "      <td>140000.0</td>\n",
       "      <td>NaN</td>\n",
       "      <td>NaN</td>\n",
       "      <td>female</td>\n",
       "      <td>NaN</td>\n",
       "      <td>NaN</td>\n",
       "      <td>0.0</td>\n",
       "      <td>0.0</td>\n",
       "      <td>1.0</td>\n",
       "      <td>NaN</td>\n",
       "      <td>0.0</td>\n",
       "      <td>NaN</td>\n",
       "      <td>NaN</td>\n",
       "      <td>10.0</td>\n",
       "      <td>aa3f061a1949a90b27bef7411ecd193f</td>\n",
       "      <td>d7c56bbf2c7b62096be9db010e86d96d</td>\n",
       "      <td>NaN</td>\n",
       "      <td>0.0</td>\n",
       "      <td>0.0</td>\n",
       "      <td>0.0</td>\n",
       "      <td>NaN</td>\n",
       "      <td>Within 7 to 12 months</td>\n",
       "      <td>1.0</td>\n",
       "      <td>NaN</td>\n",
       "      <td>NaN</td>\n",
       "      <td>NaN</td>\n",
       "      <td>1.0</td>\n",
       "      <td>1.0</td>\n",
       "      <td>NaN</td>\n",
       "      <td>1.0</td>\n",
       "      <td>1.0</td>\n",
       "      <td>NaN</td>\n",
       "      <td>NaN</td>\n",
       "      <td>NaN</td>\n",
       "      <td>NaN</td>\n",
       "      <td>work for a multinational corporation</td>\n",
       "      <td>1.0</td>\n",
       "      <td>Full-Stack Web Developer, Information Security...</td>\n",
       "      <td>in an office with other developers</td>\n",
       "      <td>Portuguese</td>\n",
       "      <td>single, never married</td>\n",
       "      <td>0.0</td>\n",
       "      <td>24.0</td>\n",
       "      <td>11b0f2d8a9</td>\n",
       "      <td>2017-03-09 00:42:45</td>\n",
       "      <td>2017-03-09 00:39:44</td>\n",
       "      <td>2017-03-09 00:45:42</td>\n",
       "      <td>2017-03-09 00:42:50</td>\n",
       "      <td>NaN</td>\n",
       "      <td>NaN</td>\n",
       "      <td>NaN</td>\n",
       "      <td>NaN</td>\n",
       "      <td>NaN</td>\n",
       "      <td>NaN</td>\n",
       "      <td>NaN</td>\n",
       "      <td>NaN</td>\n",
       "      <td>NaN</td>\n",
       "      <td>NaN</td>\n",
       "      <td>NaN</td>\n",
       "      <td>NaN</td>\n",
       "      <td>NaN</td>\n",
       "      <td>NaN</td>\n",
       "      <td>NaN</td>\n",
       "      <td>NaN</td>\n",
       "      <td>NaN</td>\n",
       "      <td>NaN</td>\n",
       "      <td>NaN</td>\n",
       "      <td>NaN</td>\n",
       "      <td>NaN</td>\n",
       "      <td>NaN</td>\n",
       "      <td>NaN</td>\n",
       "      <td>NaN</td>\n",
       "      <td>NaN</td>\n",
       "      <td>NaN</td>\n",
       "      <td>NaN</td>\n",
       "      <td>NaN</td>\n",
       "      <td>NaN</td>\n",
       "      <td>NaN</td>\n",
       "      <td>NaN</td>\n",
       "      <td>NaN</td>\n",
       "      <td>1.0</td>\n",
       "      <td>NaN</td>\n",
       "      <td>NaN</td>\n",
       "      <td>NaN</td>\n",
       "      <td>NaN</td>\n",
       "      <td>bachelor's degree</td>\n",
       "      <td>Information Technology</td>\n",
       "      <td>NaN</td>\n",
       "      <td>NaN</td>\n",
       "      <td>NaN</td>\n",
       "      <td>NaN</td>\n",
       "      <td>NaN</td>\n",
       "      <td>NaN</td>\n",
       "      <td>NaN</td>\n",
       "      <td>NaN</td>\n",
       "      <td>NaN</td>\n",
       "      <td>NaN</td>\n",
       "      <td>NaN</td>\n",
       "      <td>NaN</td>\n",
       "      <td>NaN</td>\n",
       "      <td>NaN</td>\n",
       "      <td>NaN</td>\n",
       "      <td>NaN</td>\n",
       "      <td>NaN</td>\n",
       "      <td>NaN</td>\n",
       "    </tr>\n",
       "  </tbody>\n",
       "</table>\n",
       "</div>"
      ],
      "text/plain": [
       "    Age  AttendedBootcamp  BootcampFinish  BootcampLoanYesNo BootcampName  BootcampRecommend  ChildrenNumber                 CityPopulation  CodeEventConferences  CodeEventDjangoGirls  CodeEventFCC  CodeEventGameJam  CodeEventGirlDev  CodeEventHackathons  CodeEventMeetup  CodeEventNodeSchool  CodeEventNone CodeEventOther  CodeEventRailsBridge  CodeEventRailsGirls  CodeEventStartUpWknd  CodeEventWkdBootcamps  CodeEventWomenCode  CodeEventWorkshops       CommuteTime            CountryCitizen               CountryLive              EmploymentField EmploymentFieldOther                  EmploymentStatus EmploymentStatusOther  ExpectedEarning  FinanciallySupporting  FirstDevJob  Gender GenderOther  HasChildren  HasDebt  HasFinancialDependents  HasHighSpdInternet  HasHomeMortgage  HasServedInMilitary  HasStudentDebt  HomeMortgageOwe  HoursLearning                              ID.x                              ID.y   Income  IsEthnicMinority  IsReceiveDisabilitiesBenefits  IsSoftwareDev  \\\n",
       "0  27.0               0.0             NaN                NaN          NaN                NaN             NaN            more than 1 million                   NaN                   NaN           NaN               NaN               NaN                  NaN              NaN                  NaN            NaN            NaN                   NaN                  NaN                   NaN                    NaN                 NaN                 NaN  15 to 29 minutes                    Canada                    Canada  software development and IT                  NaN                Employed for wages                   NaN              NaN                    NaN          NaN  female         NaN          NaN      1.0                     0.0                 1.0              0.0                  0.0             0.0              NaN           15.0  02d9465b21e8bd09374b0066fb2d5614  eb78c1c3ac6cd9052aec557065070fbf      NaN               NaN                            0.0            0.0   \n",
       "1  34.0               0.0             NaN                NaN          NaN                NaN             NaN              less than 100,000                   NaN                   NaN           NaN               NaN               NaN                  NaN              NaN                  NaN            NaN            NaN                   NaN                  NaN                   NaN                    NaN                 NaN                 NaN               NaN  United States of America  United States of America                          NaN                  NaN  Not working but looking for work                   NaN          35000.0                    NaN          NaN    male         NaN          NaN      1.0                     0.0                 1.0              0.0                  0.0             1.0              NaN           10.0  5bfef9ecb211ec4f518cfc1d2a6f3e0c  21db37adb60cdcafadfa7dca1b13b6b1      NaN               0.0                            0.0            0.0   \n",
       "2  21.0               0.0             NaN                NaN          NaN                NaN             NaN            more than 1 million                   NaN                   NaN           NaN               NaN               NaN                  1.0              NaN                  1.0            NaN            NaN                   NaN                  NaN                   NaN                    NaN                 NaN                 NaN  15 to 29 minutes  United States of America  United States of America  software development and IT                  NaN                Employed for wages                   NaN          70000.0                    NaN          NaN    male         NaN          NaN      0.0                     0.0                 1.0              NaN                  0.0             NaN              NaN           25.0  14f1863afa9c7de488050b82eb3edd96  21ba173828fbe9e27ccebaf4d5166a55  13000.0               1.0                            0.0            0.0   \n",
       "3  26.0               0.0             NaN                NaN          NaN                NaN             NaN  between 100,000 and 1 million                   NaN                   NaN           NaN               NaN               NaN                  NaN              NaN                  NaN            NaN            NaN                   NaN                  NaN                   NaN                    NaN                 NaN                 NaN  I work from home                    Brazil                    Brazil  software development and IT                  NaN                Employed for wages                   NaN          40000.0                    0.0          NaN    male         NaN          0.0      1.0                     1.0                 1.0              1.0                  0.0             0.0          40000.0           14.0  91756eb4dc280062a541c25a3d44cfb0  3be37b558f02daae93a6da10f83f0c77  24000.0               0.0                            0.0            0.0   \n",
       "4  20.0               0.0             NaN                NaN          NaN                NaN             NaN  between 100,000 and 1 million                   NaN                   NaN           NaN               NaN               NaN                  NaN              NaN                  NaN            NaN            NaN                   NaN                  NaN                   NaN                    NaN                 NaN                 NaN               NaN                  Portugal                  Portugal                          NaN                  NaN  Not working but looking for work                   NaN         140000.0                    NaN          NaN  female         NaN          NaN      0.0                     0.0                 1.0              NaN                  0.0             NaN              NaN           10.0  aa3f061a1949a90b27bef7411ecd193f  d7c56bbf2c7b62096be9db010e86d96d      NaN               0.0                            0.0            0.0   \n",
       "\n",
       "   IsUnderEmployed              JobApplyWhen  JobInterestBackEnd  JobInterestDataEngr  JobInterestDataSci  JobInterestDevOps  JobInterestFrontEnd  JobInterestFullStack  JobInterestGameDev  JobInterestInfoSec  JobInterestMobile JobInterestOther  JobInterestProjMngr  JobInterestQAEngr  JobInterestUX                               JobPref  JobRelocateYesNo                                    JobRoleInterest                        JobWherePref LanguageAtHome                    MaritalStatus  MoneyForLearning  MonthsProgramming   NetworkID         Part1EndTime       Part1StartTime         Part2EndTime       Part2StartTime  PodcastChangeLog  PodcastCodeNewbie  PodcastCodePen  PodcastDevTea  PodcastDotNET  PodcastGiantRobots  PodcastJSAir  PodcastJSJabber  PodcastNone PodcastOther  PodcastProgThrowdown  PodcastRubyRogues  PodcastSEDaily  PodcastSERadio  PodcastShopTalk  PodcastTalkPython  PodcastTheWebAhead  ResourceCodecademy  ResourceCodeWars  ResourceCoursera  ResourceCSS  ResourceEdX  \\\n",
       "0              0.0                       NaN                 NaN                  NaN                 NaN                NaN                  NaN                   NaN                 NaN                 NaN                NaN              NaN                  NaN                NaN            NaN               start your own business               NaN                                                NaN                                 NaN        English  married or domestic partnership             150.0                6.0  6f1fbc6b2b  2017-03-09 00:36:22  2017-03-09 00:32:59  2017-03-09 00:59:46  2017-03-09 00:36:26               NaN                NaN             NaN            1.0            NaN                 NaN           NaN              NaN          NaN          NaN                   NaN                NaN             NaN             NaN              NaN                NaN                 NaN                 1.0               NaN               NaN          NaN          NaN   \n",
       "1              NaN     Within 7 to 12 months                 NaN                  NaN                 NaN                NaN                  NaN                   1.0                 NaN                 NaN                NaN              NaN                  NaN                NaN            NaN                  work for a nonprofit               1.0                           Full-Stack Web Developer  in an office with other developers        English            single, never married              80.0                6.0  f8f8be6910  2017-03-09 00:37:07  2017-03-09 00:33:26  2017-03-09 00:38:59  2017-03-09 00:37:10               NaN                1.0             NaN            NaN            NaN                 NaN           NaN              NaN          NaN          NaN                   NaN                NaN             NaN             NaN              NaN                NaN                 NaN                 1.0               NaN               NaN          1.0          NaN   \n",
       "2              0.0     Within 7 to 12 months                 1.0                  NaN                 NaN                1.0                  1.0                   1.0                 NaN                 NaN                1.0              NaN                  NaN                NaN            NaN       work for a medium-sized company               1.0    Front-End Web Developer, Back-End Web Develo...                       no preference        Spanish            single, never married            1000.0                5.0  2ed189768e  2017-03-09 00:37:58  2017-03-09 00:33:53  2017-03-09 00:40:14  2017-03-09 00:38:02               1.0                NaN             1.0            NaN            NaN                 NaN           NaN              NaN          NaN   Codenewbie                   NaN                NaN             NaN             NaN              1.0                NaN                 NaN                 1.0               NaN               NaN          1.0          NaN   \n",
       "3              1.0  Within the next 6 months                 1.0                  NaN                 NaN                NaN                  1.0                   1.0                 NaN                 NaN                NaN              NaN                  NaN                NaN            NaN       work for a medium-sized company               NaN    Front-End Web Developer, Full-Stack Web Deve...                           from home     Portuguese  married or domestic partnership               0.0                5.0  dbdc0664d1  2017-03-09 00:40:13  2017-03-09 00:37:45  2017-03-09 00:42:26  2017-03-09 00:40:18               NaN                NaN             NaN            NaN            NaN                 NaN           NaN              NaN          NaN          NaN                   NaN                NaN             NaN             NaN              NaN                NaN                 NaN                 NaN               NaN               NaN          NaN          NaN   \n",
       "4              NaN     Within 7 to 12 months                 1.0                  NaN                 NaN                NaN                  1.0                   1.0                 NaN                 1.0                1.0              NaN                  NaN                NaN            NaN  work for a multinational corporation               1.0  Full-Stack Web Developer, Information Security...  in an office with other developers     Portuguese            single, never married               0.0               24.0  11b0f2d8a9  2017-03-09 00:42:45  2017-03-09 00:39:44  2017-03-09 00:45:42  2017-03-09 00:42:50               NaN                NaN             NaN            NaN            NaN                 NaN           NaN              NaN          NaN          NaN                   NaN                NaN             NaN             NaN              NaN                NaN                 NaN                 NaN               NaN               NaN          NaN          NaN   \n",
       "\n",
       "   ResourceEgghead  ResourceFCC  ResourceHackerRank  ResourceKA  ResourceLynda  ResourceMDN  ResourceOdinProj ResourceOther  ResourcePluralSight  ResourceSkillcrush  ResourceSO  ResourceTreehouse  ResourceUdacity  ResourceUdemy  ResourceW3S                             SchoolDegree             SchoolMajor  StudentDebtOwe  YouTubeCodeCourse  YouTubeCodingTrain  YouTubeCodingTut360  YouTubeComputerphile  YouTubeDerekBanas  YouTubeDevTips  YouTubeEngineeredTruth  YouTubeFCC  YouTubeFunFunFunction  YouTubeGoogleDev  YouTubeLearnCode  YouTubeLevelUpTuts  YouTubeMIT  YouTubeMozillaHacks YouTubeOther  YouTubeSimplilearn  YouTubeTheNewBoston  \n",
       "0              NaN          1.0                 NaN         NaN            NaN          1.0               NaN           NaN                  NaN                 NaN         NaN                NaN              NaN            1.0          1.0           some college credit, no degree                     NaN             NaN                NaN                 NaN                  NaN                   NaN                NaN             NaN                     NaN         NaN                    NaN               NaN               NaN                 NaN         NaN                  NaN          NaN                 NaN                  NaN  \n",
       "1              NaN          1.0                 NaN         NaN            NaN          NaN               NaN           NaN                  NaN                 NaN         1.0                NaN              NaN            1.0          1.0           some college credit, no degree                     NaN             NaN                NaN                 NaN                  NaN                   NaN                NaN             NaN                     NaN         1.0                    NaN               NaN               NaN                 NaN         NaN                  NaN          NaN                 NaN                  NaN  \n",
       "2              NaN          1.0                 NaN         NaN            NaN          1.0               NaN           NaN                  NaN                 NaN         NaN                NaN              1.0            1.0          NaN  high school diploma or equivalent (GED)                     NaN             NaN                NaN                 NaN                  1.0                   NaN                1.0             1.0                     NaN         NaN                    NaN               NaN               1.0                 1.0         NaN                  NaN          NaN                 NaN                  NaN  \n",
       "3              1.0          1.0                 NaN         NaN            NaN          1.0               NaN           NaN                  NaN                 NaN         1.0                NaN              NaN            NaN          NaN           some college credit, no degree                     NaN             NaN                NaN                 NaN                  NaN                   NaN                NaN             1.0                     NaN         1.0                    1.0               NaN               NaN                 1.0         NaN                  NaN          NaN                 NaN                  NaN  \n",
       "4              NaN          NaN                 NaN         NaN            NaN          NaN               NaN           NaN                  NaN                 NaN         1.0                NaN              NaN            NaN          NaN                        bachelor's degree  Information Technology             NaN                NaN                 NaN                  NaN                   NaN                NaN             NaN                     NaN         NaN                    NaN               NaN               NaN                 NaN         NaN                  NaN          NaN                 NaN                  NaN  "
      ]
     },
     "execution_count": 2,
     "metadata": {},
     "output_type": "execute_result"
    }
   ],
   "source": [
    "df_fcc.head()"
   ]
  },
  {
   "cell_type": "code",
   "execution_count": 3,
   "metadata": {
    "collapsed": false,
    "scrolled": false
   },
   "outputs": [
    {
     "data": {
      "text/plain": [
       "Full-Stack Web Developer                                                                                                                                                                                    11.770595\n",
       "  Front-End Web Developer                                                                                                                                                                                    6.435927\n",
       "  Data Scientist                                                                                                                                                                                             2.173913\n",
       "Back-End Web Developer                                                                                                                                                                                       2.030892\n",
       "  Mobile Developer                                                                                                                                                                                           1.673341\n",
       "Game Developer                                                                                                                                                                                               1.630435\n",
       "Information Security                                                                                                                                                                                         1.315789\n",
       "Full-Stack Web Developer,   Front-End Web Developer                                                                                                                                                          0.915332\n",
       "  Front-End Web Developer, Full-Stack Web Developer                                                                                                                                                          0.800915\n",
       "  Product Manager                                                                                                                                                                                            0.786613\n",
       "Data Engineer                                                                                                                                                                                                0.758009\n",
       "  User Experience Designer                                                                                                                                                                                   0.743707\n",
       "  User Experience Designer,   Front-End Web Developer                                                                                                                                                        0.614989\n",
       "  Front-End Web Developer, Back-End Web Developer, Full-Stack Web Developer                                                                                                                                  0.557780\n",
       "Back-End Web Developer, Full-Stack Web Developer,   Front-End Web Developer                                                                                                                                  0.514874\n",
       "  DevOps / SysAdmin                                                                                                                                                                                          0.514874\n",
       "Back-End Web Developer,   Front-End Web Developer, Full-Stack Web Developer                                                                                                                                  0.514874\n",
       "Full-Stack Web Developer,   Front-End Web Developer, Back-End Web Developer                                                                                                                                  0.443364\n",
       "  Front-End Web Developer, Full-Stack Web Developer, Back-End Web Developer                                                                                                                                  0.429062\n",
       "  Front-End Web Developer,   User Experience Designer                                                                                                                                                        0.414760\n",
       "Full-Stack Web Developer,   Mobile Developer                                                                                                                                                                 0.414760\n",
       "Back-End Web Developer, Full-Stack Web Developer                                                                                                                                                             0.386156\n",
       "Full-Stack Web Developer, Back-End Web Developer                                                                                                                                                             0.371854\n",
       "Back-End Web Developer,   Front-End Web Developer                                                                                                                                                            0.286041\n",
       "Data Engineer,   Data Scientist                                                                                                                                                                              0.271739\n",
       "Full-Stack Web Developer, Back-End Web Developer,   Front-End Web Developer                                                                                                                                  0.271739\n",
       "  Front-End Web Developer,   Mobile Developer                                                                                                                                                                0.257437\n",
       "Full-Stack Web Developer,   Data Scientist                                                                                                                                                                   0.243135\n",
       "  Data Scientist, Data Engineer                                                                                                                                                                              0.228833\n",
       "  Mobile Developer, Game Developer                                                                                                                                                                           0.228833\n",
       "                                                                                                                                                                                                              ...    \n",
       "  DevOps / SysAdmin, Back-End Web Developer,   User Experience Designer                                                                                                                                      0.014302\n",
       "  Front-End Web Developer,   Mobile Developer, Back-End Web Developer, Information Security, Full-Stack Web Developer,   Data Scientist, Data Engineer,   DevOps / SysAdmin                                  0.014302\n",
       "  Front-End Web Developer,   Data Scientist, Journalist                                                                                                                                                      0.014302\n",
       "  Product Manager, Full-Stack Web Developer,   DevOps / SysAdmin                                                                                                                                             0.014302\n",
       "undeceided                                                                                                                                                                                                   0.014302\n",
       "  User Experience Designer,   Mobile Developer,   Product Manager,   Front-End Web Developer,   Data Scientist, Information Security,   Quality Assurance Engineer                                           0.014302\n",
       "  Product Manager,   Mobile Developer, Game Developer, Back-End Web Developer                                                                                                                                0.014302\n",
       "  Front-End Web Developer,   Mobile Developer,   Data Scientist                                                                                                                                              0.014302\n",
       "  User Experience Designer, Full-Stack Web Developer,   Front-End Web Developer,   Product Manager                                                                                                           0.014302\n",
       "Game Developer,   Front-End Web Developer, Back-End Web Developer, Full-Stack Web Developer,   Mobile Developer, Information Security,   Data Scientist                                                      0.014302\n",
       "Game Developer,   Front-End Web Developer,   Data Scientist,   Mobile Developer                                                                                                                              0.014302\n",
       "  Product Manager, Information Security, Data Engineer, Full-Stack Web Developer, Back-End Web Developer,   Front-End Web Developer,   Mobile Developer,   User Experience Designer,   DevOps / SysAdmin     0.014302\n",
       "Full-Stack Web Developer,   Front-End Web Developer,   User Experience Designer,   Mobile Developer, Back-End Web Developer                                                                                  0.014302\n",
       "Data Engineer, Information Security,   Front-End Web Developer, Full-Stack Web Developer, plc                                                                                                                0.014302\n",
       "  Mobile Developer, Game Developer, Full-Stack Web Developer,   User Experience Designer                                                                                                                     0.014302\n",
       "  Product Manager,   Front-End Web Developer,   User Experience Designer,   Data Scientist                                                                                                                   0.014302\n",
       "  Mobile Developer,   User Experience Designer, Full-Stack Web Developer,   DevOps / SysAdmin, Technical Writer                                                                                              0.014302\n",
       "Information Security,   Mobile Developer,   DevOps / SysAdmin, Game Developer,   Data Scientist, Full-Stack Web Developer, Data Engineer                                                                     0.014302\n",
       "Web developer                                                                                                                                                                                                0.014302\n",
       "  Product Manager,   Data Scientist, Data Engineer,   Mobile Developer                                                                                                                                       0.014302\n",
       "  Product Manager, Full-Stack Web Developer, Back-End Web Developer,   Mobile Developer                                                                                                                      0.014302\n",
       "Back-End Web Developer,   DevOps / SysAdmin,   Data Scientist                                                                                                                                                0.014302\n",
       "  DevOps / SysAdmin,   User Experience Designer,   Quality Assurance Engineer, Information Security                                                                                                          0.014302\n",
       "  Mobile Developer,   Product Manager, Full-Stack Web Developer, Back-End Web Developer,   Front-End Web Developer                                                                                           0.014302\n",
       "  Front-End Web Developer,   DevOps / SysAdmin, Full-Stack Web Developer,   Mobile Developer,   User Experience Designer, Game Developer,   Quality Assurance Engineer, Back-End Web Developer               0.014302\n",
       "Game Developer, Full-Stack Web Developer,   Front-End Web Developer, Information Security, Back-End Web Developer                                                                                            0.014302\n",
       "Information Security,   Product Manager,   Mobile Developer,   Front-End Web Developer, Back-End Web Developer                                                                                               0.014302\n",
       "Game Developer,   Mobile Developer, Back-End Web Developer, Full-Stack Web Developer,   Front-End Web Developer, Information Security                                                                        0.014302\n",
       "  Mobile Developer, Full-Stack Web Developer, Information Security,   Front-End Web Developer, Game Developer,   User Experience Designer                                                                    0.014302\n",
       "Information Security, Data Engineer                                                                                                                                                                          0.014302\n",
       "Name: JobRoleInterest, Length: 3213, dtype: float64"
      ]
     },
     "execution_count": 3,
     "metadata": {},
     "output_type": "execute_result"
    }
   ],
   "source": [
    "df_fcc['JobRoleInterest'].value_counts(normalize = True).sort_values(ascending = False)*100"
   ]
  },
  {
   "cell_type": "markdown",
   "metadata": {},
   "source": [
    "The frequency table is granulated, impplies there are a lot of unique value in the column, let check how does the columns actually look like"
   ]
  },
  {
   "cell_type": "code",
   "execution_count": 4,
   "metadata": {
    "collapsed": false,
    "scrolled": true
   },
   "outputs": [
    {
     "data": {
      "text/plain": [
       "0                                                  NaN\n",
       "1                             Full-Stack Web Developer\n",
       "2      Front-End Web Developer, Back-End Web Develo...\n",
       "3      Front-End Web Developer, Full-Stack Web Deve...\n",
       "4    Full-Stack Web Developer, Information Security...\n",
       "5                                                  NaN\n",
       "6                             Full-Stack Web Developer\n",
       "7                                                  NaN\n",
       "8                                                  NaN\n",
       "9    Full-Stack Web Developer,   Quality Assurance ...\n",
       "Name: JobRoleInterest, dtype: object"
      ]
     },
     "execution_count": 4,
     "metadata": {},
     "output_type": "execute_result"
    }
   ],
   "source": [
    "df_fcc['JobRoleInterest'].head(10)"
   ]
  },
  {
   "cell_type": "code",
   "execution_count": 5,
   "metadata": {
    "collapsed": false
   },
   "outputs": [
    {
     "data": {
      "text/plain": [
       "0.6152957359009629"
      ]
     },
     "execution_count": 5,
     "metadata": {},
     "output_type": "execute_result"
    }
   ],
   "source": [
    "df_fcc['JobRoleInterest'].isnull().sum()/len(df_fcc['JobRoleInterest'])"
   ]
  },
  {
   "cell_type": "markdown",
   "metadata": {},
   "source": [
    "# Column description\n",
    "## `JobRoleInterest`\n",
    "It allows selecting multiple interested roles, which is the reason the granularity of the table. It contains quite a lot of null value, over 60% of data are missing. Droping them raises the question that if the sample still valid and representation for our purpose?"
   ]
  },
  {
   "cell_type": "code",
   "execution_count": 6,
   "metadata": {
    "collapsed": false
   },
   "outputs": [
    {
     "data": {
      "text/plain": [
       "1                           [Full-Stack Web Developer]\n",
       "2    [  Front-End Web Developer,  Back-End Web Deve...\n",
       "3    [  Front-End Web Developer,  Full-Stack Web De...\n",
       "4    [Full-Stack Web Developer,  Information Securi...\n",
       "6                           [Full-Stack Web Developer]\n",
       "Name: JobRoleInterest, dtype: object"
      ]
     },
     "execution_count": 6,
     "metadata": {},
     "output_type": "execute_result"
    }
   ],
   "source": [
    "# Split each string in the 'JobRoleInterest' column\n",
    "interests_no_nulls = df_fcc['JobRoleInterest'].dropna()\n",
    "splitted_interests = interests_no_nulls.str.split(',')\n",
    "splitted_interests.head()"
   ]
  },
  {
   "cell_type": "markdown",
   "metadata": {},
   "source": [
    "## How many interested role are they choosing?"
   ]
  },
  {
   "cell_type": "code",
   "execution_count": 7,
   "metadata": {
    "collapsed": false
   },
   "outputs": [
    {
     "data": {
      "text/plain": [
       "1     0.316505\n",
       "3     0.158896\n",
       "4     0.152174\n",
       "5     0.120423\n",
       "2     0.108839\n",
       "6     0.067220\n",
       "7     0.038616\n",
       "8     0.017592\n",
       "9     0.009868\n",
       "10    0.004720\n",
       "12    0.003003\n",
       "11    0.001859\n",
       "13    0.000286\n",
       "Name: JobRoleInterest, dtype: float64"
      ]
     },
     "execution_count": 7,
     "metadata": {},
     "output_type": "execute_result"
    }
   ],
   "source": [
    "n_options = splitted_interests.apply(lambda x: len(x))\n",
    "n_options.value_counts(normalize = True)"
   ]
  },
  {
   "cell_type": "markdown",
   "metadata": {},
   "source": [
    "Just above 30% of the observation only interested in a signle role, in other \n",
    "words, over 70% of the respondant do not have a relatively clear idea which niche they would like to work in, but have interest in multiple disciplines."
   ]
  },
  {
   "cell_type": "markdown",
   "metadata": {},
   "source": [
    "## Which role is the most interested?\n",
    "The focus of our courses is on *web and mobile development*, so let's find out how many respondents chose at least one of these two options."
   ]
  },
  {
   "cell_type": "code",
   "execution_count": 8,
   "metadata": {
    "collapsed": false
   },
   "outputs": [
    {
     "name": "stdout",
     "output_type": "stream",
     "text": [
      "full-stack web developer    0.185752\n",
      "front-end web developer     0.156327\n",
      "back-end web developer      0.122655\n",
      "mobile developer            0.101991\n",
      "data scientist              0.072699\n",
      "game developer              0.072035\n",
      "user experience designer    0.065000\n",
      "information security        0.058673\n",
      "data engineer               0.055221\n",
      "devops / sysadmin           0.041018\n",
      "dtype: float64\n"
     ]
    },
    {
     "data": {
      "text/plain": [
       "<matplotlib.axes._subplots.AxesSubplot at 0x7f4e0b3fad30>"
      ]
     },
     "execution_count": 8,
     "metadata": {},
     "output_type": "execute_result"
    },
    {
     "data": {
      "image/png": "[encoded data removed]",
      "text/plain": [
       "<matplotlib.figure.Figure at 0x7f4e0acffd30>"
      ]
     },
     "metadata": {},
     "output_type": "display_data"
    }
   ],
   "source": [
    "## create a dictionary for recording every role frequency \n",
    "# role = {}\n",
    "\n",
    "# for i in splitted_interests:\n",
    "#     for n in range(len(i)):\n",
    "#         if i[n].strip().lower() in role:\n",
    "#             role[i[n].strip().lower()] += 1\n",
    "#         else:\n",
    "#             role[i[n].strip().lower()] = 1\n",
    "            \n",
    "# roles = pd.DataFrame.from_dict(role, orient = 'index')\n",
    "# roles = roles.rename(columns = {0: 'freq'})\n",
    "# top_10_interested_roles = roles.sort_values('freq', ascending=False).head(10)\n",
    "# top_10_interested_roles.plot.bar()\n",
    "# print('most interested role:', max(role, key = role.get),'\\n')\n",
    "# sorted_role = pd.Series(sorted(role.items(), key = lambda x: x[1], reverse = True))\n",
    "# print(sorted_role.head())\n",
    "\n",
    "## creating a serie for recording every role frequency, it is shorter than the dictionary\n",
    "role = []\n",
    "for i in splitted_interests:\n",
    "    for n in range(len(i)):\n",
    "        role.append(i[n].strip().lower())\n",
    "roles = pd.Series(role)\n",
    "print(roles.value_counts(normalize = True).head(10))\n",
    "roles.str.contains('web|mobile').value_counts(normalize = True).head(10).plot.bar()"
   ]
  },
  {
   "cell_type": "markdown",
   "metadata": {},
   "source": [
    "we take out every respondent's answer, and evaluate the frequency of the interested role, we found that 4 out of the top-10 interested role are *web and mobile related*."
   ]
  },
  {
   "cell_type": "code",
   "execution_count": 9,
   "metadata": {
    "collapsed": false
   },
   "outputs": [
    {
     "data": {
      "text/plain": [
       "<matplotlib.axes._subplots.AxesSubplot at 0x7f4e0acff940>"
      ]
     },
     "execution_count": 9,
     "metadata": {},
     "output_type": "execute_result"
    },
    {
     "data": {
      "image/png": "[encoded data removed]",
      "text/plain": [
       "<matplotlib.figure.Figure at 0x7f4e0b059c50>"
      ]
     },
     "metadata": {},
     "output_type": "display_data"
    }
   ],
   "source": [
    "interests_no_nulls.str.contains('Web Developer|Mobile Developer').value_counts(normalize = True).plot.bar(title = 'Response contains to Web/Mobile Development')\n",
    "# roles.str.contains('web|mobile').value_counts(normalize = True).head(10).plot.bar()\n",
    "# roles.str.contains('web', flags = re.I).value_counts(normalize = True)\n",
    "#         if i[n].strip().lower() in role:\n",
    "#             role[i[n].strip().lower()] += 1\n",
    "#         else:\n",
    "#             role[i[n].strip().lower()] = 1\n",
    "# roles = pd.DataFrame.from_dict(role, orient = 'index')\n",
    "# roles = roles.rename(columns = {0: 'freq'})\n",
    "# top_10_interested_roles = roles.sort_values('freq', ascending=False).head(10)\n",
    "# top_10_interested_roles.plot.bar()\n",
    "# print('max:', max(role, key = role.get))\n",
    "# sorted_role = pd.Series(sorted(role.items(), key = lambda x: x[1], reverse = True))\n",
    "# sorted_role"
   ]
  },
  {
   "cell_type": "markdown",
   "metadata": {},
   "source": [
    "over 85% of the respondent include web/mobile development role as one of their interests. These figures offer us a strong reason to consider this sample representative for our population of interes even we drop the null row "
   ]
  },
  {
   "cell_type": "code",
   "execution_count": 10,
   "metadata": {
    "collapsed": false
   },
   "outputs": [],
   "source": [
    "# drop the null roll\n",
    "df_fcc = df_fcc[df_fcc['JobRoleInterest'].notnull()]"
   ]
  },
  {
   "cell_type": "code",
   "execution_count": 11,
   "metadata": {
    "collapsed": false
   },
   "outputs": [
    {
     "data": {
      "text/plain": [
       "(6992, 136)"
      ]
     },
     "execution_count": 11,
     "metadata": {},
     "output_type": "execute_result"
    }
   ],
   "source": [
    "df_fcc.shape"
   ]
  },
  {
   "cell_type": "markdown",
   "metadata": {},
   "source": [
    "6992 observation remains after dropping."
   ]
  },
  {
   "cell_type": "markdown",
   "metadata": {},
   "source": [
    "# Locations and Densities"
   ]
  },
  {
   "cell_type": "code",
   "execution_count": 12,
   "metadata": {
    "collapsed": false,
    "scrolled": true
   },
   "outputs": [
    {
     "data": {
      "text/html": [
       "<div>\n",
       "<style scoped>\n",
       "    .dataframe tbody tr th:only-of-type {\n",
       "        vertical-align: middle;\n",
       "    }\n",
       "\n",
       "    .dataframe tbody tr th {\n",
       "        vertical-align: top;\n",
       "    }\n",
       "\n",
       "    .dataframe thead th {\n",
       "        text-align: right;\n",
       "    }\n",
       "</style>\n",
       "<table border=\"1\" class=\"dataframe\">\n",
       "  <thead>\n",
       "    <tr style=\"text-align: right;\">\n",
       "      <th></th>\n",
       "      <th>Absolute frequency</th>\n",
       "      <th>Percentage</th>\n",
       "    </tr>\n",
       "  </thead>\n",
       "  <tbody>\n",
       "    <tr>\n",
       "      <th>United States of America</th>\n",
       "      <td>3125</td>\n",
       "      <td>45.70</td>\n",
       "    </tr>\n",
       "    <tr>\n",
       "      <th>India</th>\n",
       "      <td>528</td>\n",
       "      <td>7.72</td>\n",
       "    </tr>\n",
       "    <tr>\n",
       "      <th>United Kingdom</th>\n",
       "      <td>315</td>\n",
       "      <td>4.61</td>\n",
       "    </tr>\n",
       "    <tr>\n",
       "      <th>Canada</th>\n",
       "      <td>260</td>\n",
       "      <td>3.80</td>\n",
       "    </tr>\n",
       "    <tr>\n",
       "      <th>Poland</th>\n",
       "      <td>131</td>\n",
       "      <td>1.92</td>\n",
       "    </tr>\n",
       "    <tr>\n",
       "      <th>Brazil</th>\n",
       "      <td>129</td>\n",
       "      <td>1.89</td>\n",
       "    </tr>\n",
       "    <tr>\n",
       "      <th>Germany</th>\n",
       "      <td>125</td>\n",
       "      <td>1.83</td>\n",
       "    </tr>\n",
       "    <tr>\n",
       "      <th>Australia</th>\n",
       "      <td>112</td>\n",
       "      <td>1.64</td>\n",
       "    </tr>\n",
       "    <tr>\n",
       "      <th>Russia</th>\n",
       "      <td>102</td>\n",
       "      <td>1.49</td>\n",
       "    </tr>\n",
       "    <tr>\n",
       "      <th>Ukraine</th>\n",
       "      <td>89</td>\n",
       "      <td>1.30</td>\n",
       "    </tr>\n",
       "    <tr>\n",
       "      <th>Nigeria</th>\n",
       "      <td>84</td>\n",
       "      <td>1.23</td>\n",
       "    </tr>\n",
       "    <tr>\n",
       "      <th>Spain</th>\n",
       "      <td>77</td>\n",
       "      <td>1.13</td>\n",
       "    </tr>\n",
       "    <tr>\n",
       "      <th>France</th>\n",
       "      <td>75</td>\n",
       "      <td>1.10</td>\n",
       "    </tr>\n",
       "    <tr>\n",
       "      <th>Romania</th>\n",
       "      <td>71</td>\n",
       "      <td>1.04</td>\n",
       "    </tr>\n",
       "    <tr>\n",
       "      <th>Netherlands (Holland, Europe)</th>\n",
       "      <td>65</td>\n",
       "      <td>0.95</td>\n",
       "    </tr>\n",
       "    <tr>\n",
       "      <th>Italy</th>\n",
       "      <td>62</td>\n",
       "      <td>0.91</td>\n",
       "    </tr>\n",
       "    <tr>\n",
       "      <th>Serbia</th>\n",
       "      <td>52</td>\n",
       "      <td>0.76</td>\n",
       "    </tr>\n",
       "    <tr>\n",
       "      <th>Philippines</th>\n",
       "      <td>52</td>\n",
       "      <td>0.76</td>\n",
       "    </tr>\n",
       "    <tr>\n",
       "      <th>Greece</th>\n",
       "      <td>46</td>\n",
       "      <td>0.67</td>\n",
       "    </tr>\n",
       "    <tr>\n",
       "      <th>Ireland</th>\n",
       "      <td>43</td>\n",
       "      <td>0.63</td>\n",
       "    </tr>\n",
       "    <tr>\n",
       "      <th>South Africa</th>\n",
       "      <td>39</td>\n",
       "      <td>0.57</td>\n",
       "    </tr>\n",
       "    <tr>\n",
       "      <th>Mexico</th>\n",
       "      <td>37</td>\n",
       "      <td>0.54</td>\n",
       "    </tr>\n",
       "    <tr>\n",
       "      <th>Turkey</th>\n",
       "      <td>36</td>\n",
       "      <td>0.53</td>\n",
       "    </tr>\n",
       "    <tr>\n",
       "      <th>Hungary</th>\n",
       "      <td>34</td>\n",
       "      <td>0.50</td>\n",
       "    </tr>\n",
       "    <tr>\n",
       "      <th>Singapore</th>\n",
       "      <td>34</td>\n",
       "      <td>0.50</td>\n",
       "    </tr>\n",
       "    <tr>\n",
       "      <th>New Zealand</th>\n",
       "      <td>33</td>\n",
       "      <td>0.48</td>\n",
       "    </tr>\n",
       "    <tr>\n",
       "      <th>Argentina</th>\n",
       "      <td>32</td>\n",
       "      <td>0.47</td>\n",
       "    </tr>\n",
       "    <tr>\n",
       "      <th>Croatia</th>\n",
       "      <td>32</td>\n",
       "      <td>0.47</td>\n",
       "    </tr>\n",
       "    <tr>\n",
       "      <th>Sweden</th>\n",
       "      <td>31</td>\n",
       "      <td>0.45</td>\n",
       "    </tr>\n",
       "    <tr>\n",
       "      <th>Indonesia</th>\n",
       "      <td>31</td>\n",
       "      <td>0.45</td>\n",
       "    </tr>\n",
       "    <tr>\n",
       "      <th>...</th>\n",
       "      <td>...</td>\n",
       "      <td>...</td>\n",
       "    </tr>\n",
       "    <tr>\n",
       "      <th>Nambia</th>\n",
       "      <td>1</td>\n",
       "      <td>0.01</td>\n",
       "    </tr>\n",
       "    <tr>\n",
       "      <th>Nicaragua</th>\n",
       "      <td>1</td>\n",
       "      <td>0.01</td>\n",
       "    </tr>\n",
       "    <tr>\n",
       "      <th>Channel Islands</th>\n",
       "      <td>1</td>\n",
       "      <td>0.01</td>\n",
       "    </tr>\n",
       "    <tr>\n",
       "      <th>Turkmenistan</th>\n",
       "      <td>1</td>\n",
       "      <td>0.01</td>\n",
       "    </tr>\n",
       "    <tr>\n",
       "      <th>Gibraltar</th>\n",
       "      <td>1</td>\n",
       "      <td>0.01</td>\n",
       "    </tr>\n",
       "    <tr>\n",
       "      <th>Kyrgyzstan</th>\n",
       "      <td>1</td>\n",
       "      <td>0.01</td>\n",
       "    </tr>\n",
       "    <tr>\n",
       "      <th>Somalia</th>\n",
       "      <td>1</td>\n",
       "      <td>0.01</td>\n",
       "    </tr>\n",
       "    <tr>\n",
       "      <th>Gambia</th>\n",
       "      <td>1</td>\n",
       "      <td>0.01</td>\n",
       "    </tr>\n",
       "    <tr>\n",
       "      <th>Vanuatu</th>\n",
       "      <td>1</td>\n",
       "      <td>0.01</td>\n",
       "    </tr>\n",
       "    <tr>\n",
       "      <th>Angola</th>\n",
       "      <td>1</td>\n",
       "      <td>0.01</td>\n",
       "    </tr>\n",
       "    <tr>\n",
       "      <th>Rwanda</th>\n",
       "      <td>1</td>\n",
       "      <td>0.01</td>\n",
       "    </tr>\n",
       "    <tr>\n",
       "      <th>Cuba</th>\n",
       "      <td>1</td>\n",
       "      <td>0.01</td>\n",
       "    </tr>\n",
       "    <tr>\n",
       "      <th>Bolivia</th>\n",
       "      <td>1</td>\n",
       "      <td>0.01</td>\n",
       "    </tr>\n",
       "    <tr>\n",
       "      <th>Papua New Guinea</th>\n",
       "      <td>1</td>\n",
       "      <td>0.01</td>\n",
       "    </tr>\n",
       "    <tr>\n",
       "      <th>Trinidad &amp; Tobago</th>\n",
       "      <td>1</td>\n",
       "      <td>0.01</td>\n",
       "    </tr>\n",
       "    <tr>\n",
       "      <th>Anguilla</th>\n",
       "      <td>1</td>\n",
       "      <td>0.01</td>\n",
       "    </tr>\n",
       "    <tr>\n",
       "      <th>Cayman Islands</th>\n",
       "      <td>1</td>\n",
       "      <td>0.01</td>\n",
       "    </tr>\n",
       "    <tr>\n",
       "      <th>Liberia</th>\n",
       "      <td>1</td>\n",
       "      <td>0.01</td>\n",
       "    </tr>\n",
       "    <tr>\n",
       "      <th>Sudan</th>\n",
       "      <td>1</td>\n",
       "      <td>0.01</td>\n",
       "    </tr>\n",
       "    <tr>\n",
       "      <th>Myanmar</th>\n",
       "      <td>1</td>\n",
       "      <td>0.01</td>\n",
       "    </tr>\n",
       "    <tr>\n",
       "      <th>Yemen</th>\n",
       "      <td>1</td>\n",
       "      <td>0.01</td>\n",
       "    </tr>\n",
       "    <tr>\n",
       "      <th>Panama</th>\n",
       "      <td>1</td>\n",
       "      <td>0.01</td>\n",
       "    </tr>\n",
       "    <tr>\n",
       "      <th>Guatemala</th>\n",
       "      <td>1</td>\n",
       "      <td>0.01</td>\n",
       "    </tr>\n",
       "    <tr>\n",
       "      <th>Cameroon</th>\n",
       "      <td>1</td>\n",
       "      <td>0.01</td>\n",
       "    </tr>\n",
       "    <tr>\n",
       "      <th>Jordan</th>\n",
       "      <td>1</td>\n",
       "      <td>0.01</td>\n",
       "    </tr>\n",
       "    <tr>\n",
       "      <th>Guadeloupe</th>\n",
       "      <td>1</td>\n",
       "      <td>0.01</td>\n",
       "    </tr>\n",
       "    <tr>\n",
       "      <th>Qatar</th>\n",
       "      <td>1</td>\n",
       "      <td>0.01</td>\n",
       "    </tr>\n",
       "    <tr>\n",
       "      <th>Samoa</th>\n",
       "      <td>1</td>\n",
       "      <td>0.01</td>\n",
       "    </tr>\n",
       "    <tr>\n",
       "      <th>Botswana</th>\n",
       "      <td>1</td>\n",
       "      <td>0.01</td>\n",
       "    </tr>\n",
       "    <tr>\n",
       "      <th>Aruba</th>\n",
       "      <td>1</td>\n",
       "      <td>0.01</td>\n",
       "    </tr>\n",
       "  </tbody>\n",
       "</table>\n",
       "<p>137 rows × 2 columns</p>\n",
       "</div>"
      ],
      "text/plain": [
       "                               Absolute frequency  Percentage\n",
       "United States of America                     3125       45.70\n",
       "India                                         528        7.72\n",
       "United Kingdom                                315        4.61\n",
       "Canada                                        260        3.80\n",
       "Poland                                        131        1.92\n",
       "Brazil                                        129        1.89\n",
       "Germany                                       125        1.83\n",
       "Australia                                     112        1.64\n",
       "Russia                                        102        1.49\n",
       "Ukraine                                        89        1.30\n",
       "Nigeria                                        84        1.23\n",
       "Spain                                          77        1.13\n",
       "France                                         75        1.10\n",
       "Romania                                        71        1.04\n",
       "Netherlands (Holland, Europe)                  65        0.95\n",
       "Italy                                          62        0.91\n",
       "Serbia                                         52        0.76\n",
       "Philippines                                    52        0.76\n",
       "Greece                                         46        0.67\n",
       "Ireland                                        43        0.63\n",
       "South Africa                                   39        0.57\n",
       "Mexico                                         37        0.54\n",
       "Turkey                                         36        0.53\n",
       "Hungary                                        34        0.50\n",
       "Singapore                                      34        0.50\n",
       "New Zealand                                    33        0.48\n",
       "Argentina                                      32        0.47\n",
       "Croatia                                        32        0.47\n",
       "Sweden                                         31        0.45\n",
       "Indonesia                                      31        0.45\n",
       "...                                           ...         ...\n",
       "Nambia                                          1        0.01\n",
       "Nicaragua                                       1        0.01\n",
       "Channel Islands                                 1        0.01\n",
       "Turkmenistan                                    1        0.01\n",
       "Gibraltar                                       1        0.01\n",
       "Kyrgyzstan                                      1        0.01\n",
       "Somalia                                         1        0.01\n",
       "Gambia                                          1        0.01\n",
       "Vanuatu                                         1        0.01\n",
       "Angola                                          1        0.01\n",
       "Rwanda                                          1        0.01\n",
       "Cuba                                            1        0.01\n",
       "Bolivia                                         1        0.01\n",
       "Papua New Guinea                                1        0.01\n",
       "Trinidad & Tobago                               1        0.01\n",
       "Anguilla                                        1        0.01\n",
       "Cayman Islands                                  1        0.01\n",
       "Liberia                                         1        0.01\n",
       "Sudan                                           1        0.01\n",
       "Myanmar                                         1        0.01\n",
       "Yemen                                           1        0.01\n",
       "Panama                                          1        0.01\n",
       "Guatemala                                       1        0.01\n",
       "Cameroon                                        1        0.01\n",
       "Jordan                                          1        0.01\n",
       "Guadeloupe                                      1        0.01\n",
       "Qatar                                           1        0.01\n",
       "Samoa                                           1        0.01\n",
       "Botswana                                        1        0.01\n",
       "Aruba                                           1        0.01\n",
       "\n",
       "[137 rows x 2 columns]"
      ]
     },
     "execution_count": 12,
     "metadata": {},
     "output_type": "execute_result"
    }
   ],
   "source": [
    "a_f = df_fcc['CountryLive'].value_counts()\n",
    "r_f = df_fcc['CountryLive'].value_counts(normalize = True)*100\n",
    "pd.DataFrame( {'Absolute frequency': a_f, 'Percentage': round(r_f,2)})"
   ]
  },
  {
   "cell_type": "markdown",
   "metadata": {},
   "source": [
    "45.7% of our potential customers are located in the US, and this definitely seems like the most interesting market. India has the second customer density, but it's just 7.7%, which is not too far from the United Kingdom (4.6%) or Canada (3.8%).\n",
    "\n",
    "This is useful information while we should not conclude here but should go more in depth than this and figure out how much money people are actually willing to spend on learning. Advertising in high-density markets where most people are only willing to learn for free is unlikely to be profitable."
   ]
  },
  {
   "cell_type": "markdown",
   "metadata": {},
   "source": [
    "# Finding the monthly expenditure on learning of the new coder"
   ]
  },
  {
   "cell_type": "code",
   "execution_count": 13,
   "metadata": {
    "collapsed": false
   },
   "outputs": [
    {
     "data": {
      "text/plain": [
       "MoneyForLearning     0.073799\n",
       "MonthsProgramming    0.051344\n",
       "CountryLive          0.022025\n",
       "dtype: float64"
      ]
     },
     "execution_count": 13,
     "metadata": {},
     "output_type": "execute_result"
    }
   ],
   "source": [
    "# clean the interested columns\n",
    "df_fcc[['MoneyForLearning','MonthsProgramming', 'CountryLive']].isnull().sum()/df_fcc[['MoneyForLearning','MonthsProgramming', 'CountryLive']].shape[0]"
   ]
  },
  {
   "cell_type": "markdown",
   "metadata": {},
   "source": [
    "There is less than 1% null values, drop for the ease of analysis."
   ]
  },
  {
   "cell_type": "code",
   "execution_count": 14,
   "metadata": {
    "collapsed": true
   },
   "outputs": [],
   "source": [
    "exp_m_c = df_fcc[['MoneyForLearning','MonthsProgramming', 'CountryLive']].dropna()"
   ]
  },
  {
   "cell_type": "code",
   "execution_count": 15,
   "metadata": {
    "collapsed": false
   },
   "outputs": [
    {
     "data": {
      "text/html": [
       "<div>\n",
       "<style scoped>\n",
       "    .dataframe tbody tr th:only-of-type {\n",
       "        vertical-align: middle;\n",
       "    }\n",
       "\n",
       "    .dataframe tbody tr th {\n",
       "        vertical-align: top;\n",
       "    }\n",
       "\n",
       "    .dataframe thead th {\n",
       "        text-align: right;\n",
       "    }\n",
       "</style>\n",
       "<table border=\"1\" class=\"dataframe\">\n",
       "  <thead>\n",
       "    <tr style=\"text-align: right;\">\n",
       "      <th></th>\n",
       "      <th>MoneyForLearning</th>\n",
       "      <th>MonthsProgramming</th>\n",
       "      <th>CountryLive</th>\n",
       "    </tr>\n",
       "  </thead>\n",
       "  <tbody>\n",
       "    <tr>\n",
       "      <th>count</th>\n",
       "      <td>6212.000000</td>\n",
       "      <td>6212.000000</td>\n",
       "      <td>6212</td>\n",
       "    </tr>\n",
       "    <tr>\n",
       "      <th>unique</th>\n",
       "      <td>NaN</td>\n",
       "      <td>NaN</td>\n",
       "      <td>131</td>\n",
       "    </tr>\n",
       "    <tr>\n",
       "      <th>top</th>\n",
       "      <td>NaN</td>\n",
       "      <td>NaN</td>\n",
       "      <td>United States of America</td>\n",
       "    </tr>\n",
       "    <tr>\n",
       "      <th>freq</th>\n",
       "      <td>NaN</td>\n",
       "      <td>NaN</td>\n",
       "      <td>2933</td>\n",
       "    </tr>\n",
       "    <tr>\n",
       "      <th>mean</th>\n",
       "      <td>900.410979</td>\n",
       "      <td>13.458467</td>\n",
       "      <td>NaN</td>\n",
       "    </tr>\n",
       "    <tr>\n",
       "      <th>std</th>\n",
       "      <td>4970.743144</td>\n",
       "      <td>28.775824</td>\n",
       "      <td>NaN</td>\n",
       "    </tr>\n",
       "    <tr>\n",
       "      <th>min</th>\n",
       "      <td>0.000000</td>\n",
       "      <td>0.000000</td>\n",
       "      <td>NaN</td>\n",
       "    </tr>\n",
       "    <tr>\n",
       "      <th>25%</th>\n",
       "      <td>0.000000</td>\n",
       "      <td>2.000000</td>\n",
       "      <td>NaN</td>\n",
       "    </tr>\n",
       "    <tr>\n",
       "      <th>50%</th>\n",
       "      <td>10.000000</td>\n",
       "      <td>6.000000</td>\n",
       "      <td>NaN</td>\n",
       "    </tr>\n",
       "    <tr>\n",
       "      <th>75%</th>\n",
       "      <td>200.000000</td>\n",
       "      <td>15.000000</td>\n",
       "      <td>NaN</td>\n",
       "    </tr>\n",
       "    <tr>\n",
       "      <th>max</th>\n",
       "      <td>200000.000000</td>\n",
       "      <td>744.000000</td>\n",
       "      <td>NaN</td>\n",
       "    </tr>\n",
       "  </tbody>\n",
       "</table>\n",
       "</div>"
      ],
      "text/plain": [
       "        MoneyForLearning  MonthsProgramming               CountryLive\n",
       "count        6212.000000        6212.000000                      6212\n",
       "unique               NaN                NaN                       131\n",
       "top                  NaN                NaN  United States of America\n",
       "freq                 NaN                NaN                      2933\n",
       "mean          900.410979          13.458467                       NaN\n",
       "std          4970.743144          28.775824                       NaN\n",
       "min             0.000000           0.000000                       NaN\n",
       "25%             0.000000           2.000000                       NaN\n",
       "50%            10.000000           6.000000                       NaN\n",
       "75%           200.000000          15.000000                       NaN\n",
       "max        200000.000000         744.000000                       NaN"
      ]
     },
     "execution_count": 15,
     "metadata": {},
     "output_type": "execute_result"
    }
   ],
   "source": [
    "exp_m_c.describe(include='all')"
   ]
  },
  {
   "cell_type": "code",
   "execution_count": 16,
   "metadata": {
    "collapsed": false
   },
   "outputs": [
    {
     "name": "stdout",
     "output_type": "stream",
     "text": [
      "0.0\n"
     ]
    }
   ],
   "source": [
    "#check if the number of month is zero.\n",
    "print(exp_m_c['MonthsProgramming'].min())\n",
    "exp_m_c['MonthsProgramming'] = exp_m_c['MonthsProgramming'].apply(lambda x: 1 if x == 0 else x)"
   ]
  },
  {
   "cell_type": "markdown",
   "metadata": {},
   "source": [
    "there is observation assert 0 month of learning to code, it is consider their learning is less than a month, thus, for the rule of thumb, their learning is regarded as 1 month."
   ]
  },
  {
   "cell_type": "code",
   "execution_count": 17,
   "metadata": {
    "collapsed": false
   },
   "outputs": [
    {
     "data": {
      "text/plain": [
       "<matplotlib.axes._subplots.AxesSubplot at 0x7f4e0af63e80>"
      ]
     },
     "execution_count": 17,
     "metadata": {},
     "output_type": "execute_result"
    },
    {
     "data": {
      "image/png": "[encoded data removed]",
      "text/plain": [
       "<matplotlib.figure.Figure at 0x7f4e0af3f160>"
      ]
     },
     "metadata": {},
     "output_type": "display_data"
    }
   ],
   "source": [
    "exp_m_c['MonthsProgramming'].plot.hist(bins = 45)"
   ]
  },
  {
   "cell_type": "code",
   "execution_count": 18,
   "metadata": {
    "collapsed": false
   },
   "outputs": [
    {
     "data": {
      "text/plain": [
       "(0.256, 17.511]     76.75\n",
       "(17.511, 34.022]    12.88\n",
       "(34.022, 50.533]     7.08\n",
       "(50.533, 67.044]     1.45\n",
       "(67.044, 83.556]     0.63\n",
       "Name: MonthsProgramming, dtype: float64"
      ]
     },
     "execution_count": 18,
     "metadata": {},
     "output_type": "execute_result"
    }
   ],
   "source": [
    "round(exp_m_c['MonthsProgramming'].value_counts(normalize = True , bins = 45).sort_index().head()*100,2)"
   ]
  },
  {
   "cell_type": "markdown",
   "metadata": {},
   "source": [
    "The range of `MonthsProgramming` is large, it ranges from 0 to 744.\n",
    "The distribution is heavily right/positive skewed, over 90% of the sample falls in the 1st and 2nd bin, implying that over 80% of the learner's learning jouney is less that 1.5 years."
   ]
  },
  {
   "cell_type": "code",
   "execution_count": 19,
   "metadata": {
    "collapsed": false
   },
   "outputs": [
    {
     "data": {
      "text/html": [
       "<div>\n",
       "<style scoped>\n",
       "    .dataframe tbody tr th:only-of-type {\n",
       "        vertical-align: middle;\n",
       "    }\n",
       "\n",
       "    .dataframe tbody tr th {\n",
       "        vertical-align: top;\n",
       "    }\n",
       "\n",
       "    .dataframe thead th {\n",
       "        text-align: right;\n",
       "    }\n",
       "</style>\n",
       "<table border=\"1\" class=\"dataframe\">\n",
       "  <thead>\n",
       "    <tr style=\"text-align: right;\">\n",
       "      <th></th>\n",
       "      <th>exp_m</th>\n",
       "    </tr>\n",
       "    <tr>\n",
       "      <th>CountryLive</th>\n",
       "      <th></th>\n",
       "    </tr>\n",
       "  </thead>\n",
       "  <tbody>\n",
       "    <tr>\n",
       "      <th>United States of America</th>\n",
       "      <td>227.997996</td>\n",
       "    </tr>\n",
       "    <tr>\n",
       "      <th>India</th>\n",
       "      <td>135.100982</td>\n",
       "    </tr>\n",
       "    <tr>\n",
       "      <th>Canada</th>\n",
       "      <td>113.510961</td>\n",
       "    </tr>\n",
       "    <tr>\n",
       "      <th>Poland</th>\n",
       "      <td>75.678935</td>\n",
       "    </tr>\n",
       "    <tr>\n",
       "      <th>United Kingdom</th>\n",
       "      <td>45.534443</td>\n",
       "    </tr>\n",
       "  </tbody>\n",
       "</table>\n",
       "</div>"
      ],
      "text/plain": [
       "                               exp_m\n",
       "CountryLive                         \n",
       "United States of America  227.997996\n",
       "India                     135.100982\n",
       "Canada                    113.510961\n",
       "Poland                     75.678935\n",
       "United Kingdom             45.534443"
      ]
     },
     "execution_count": 19,
     "metadata": {},
     "output_type": "execute_result"
    }
   ],
   "source": [
    "exp_m_c['exp_m'] = exp_m_c['MoneyForLearning']/exp_m_c['MonthsProgramming']\n",
    "interested_c = exp_m_c[exp_m_c['CountryLive'].isin(exp_m_c['CountryLive'].value_counts().head().index)]\n",
    "interested_c[['CountryLive','exp_m']].groupby(['CountryLive']).mean().sort_values('exp_m',ascending = False)"
   ]
  },
  {
   "cell_type": "markdown",
   "metadata": {},
   "source": [
    "The results of mean monthly expenditure for the United Kingdom and Canada are surprising relative to the values of India in terms of their respective GDP per capita (india GDP/capita should be the lowest and is expected to have the expenditure relatively lower than developed countries like UK, CA. since mean is used to evaluated, the outliner ould be a reason for this result"
   ]
  },
  {
   "cell_type": "markdown",
   "metadata": {},
   "source": [
    "# Using boxplot to identity, if any, outliners."
   ]
  },
  {
   "cell_type": "code",
   "execution_count": 20,
   "metadata": {
    "collapsed": false
   },
   "outputs": [
    {
     "name": "stderr",
     "output_type": "stream",
     "text": [
      "/dataquest/system/env/python3/lib/python3.4/site-packages/seaborn/categorical.py:454: FutureWarning: remove_na is deprecated and is a private function. Do not use.\n",
      "  box_data = remove_na(group_data)\n"
     ]
    },
    {
     "data": {
      "text/plain": [
       "(array([0, 1, 2, 3, 4]), <a list of 5 Text xticklabel objects>)"
      ]
     },
     "execution_count": 20,
     "metadata": {},
     "output_type": "execute_result"
    },
    {
     "data": {
      "image/png": "[encoded data removed]",
      "text/plain": [
       "<matplotlib.figure.Figure at 0x7f4e0ae22240>"
      ]
     },
     "metadata": {},
     "output_type": "display_data"
    }
   ],
   "source": [
    "import seaborn as sns\n",
    "sns.boxplot(data = interested_c, y = 'exp_m', x = 'CountryLive')\n",
    "plt.title('Monthly Learning Expenditure')\n",
    "plt.xlabel('Country')\n",
    "plt.ylabel('USD')\n",
    "plt.xticks(rotation=45)"
   ]
  },
  {
   "cell_type": "markdown",
   "metadata": {},
   "source": [
    "Although the above graph show the outliner is more frequent in USA or India, it is hard to if there is anything wrong with the other interested countries. However, we can see immediately that there is something abnormal in the US data that two persons spend >USD 50k/month for learning. \n",
    "\n",
    "This outliner is affacting the mean evaluation significantly, so we'll remove every value that >USD 20,000/month for the ease of the analysis."
   ]
  },
  {
   "cell_type": "code",
   "execution_count": 21,
   "metadata": {
    "collapsed": false
   },
   "outputs": [
    {
     "data": {
      "text/html": [
       "<div>\n",
       "<style scoped>\n",
       "    .dataframe tbody tr th:only-of-type {\n",
       "        vertical-align: middle;\n",
       "    }\n",
       "\n",
       "    .dataframe tbody tr th {\n",
       "        vertical-align: top;\n",
       "    }\n",
       "\n",
       "    .dataframe thead th {\n",
       "        text-align: right;\n",
       "    }\n",
       "</style>\n",
       "<table border=\"1\" class=\"dataframe\">\n",
       "  <thead>\n",
       "    <tr style=\"text-align: right;\">\n",
       "      <th></th>\n",
       "      <th>exp_m</th>\n",
       "    </tr>\n",
       "    <tr>\n",
       "      <th>CountryLive</th>\n",
       "      <th></th>\n",
       "    </tr>\n",
       "  </thead>\n",
       "  <tbody>\n",
       "    <tr>\n",
       "      <th>United States of America</th>\n",
       "      <td>183.800110</td>\n",
       "    </tr>\n",
       "    <tr>\n",
       "      <th>India</th>\n",
       "      <td>135.100982</td>\n",
       "    </tr>\n",
       "    <tr>\n",
       "      <th>Canada</th>\n",
       "      <td>113.510961</td>\n",
       "    </tr>\n",
       "    <tr>\n",
       "      <th>Poland</th>\n",
       "      <td>75.678935</td>\n",
       "    </tr>\n",
       "    <tr>\n",
       "      <th>United Kingdom</th>\n",
       "      <td>45.534443</td>\n",
       "    </tr>\n",
       "  </tbody>\n",
       "</table>\n",
       "</div>"
      ],
      "text/plain": [
       "                               exp_m\n",
       "CountryLive                         \n",
       "United States of America  183.800110\n",
       "India                     135.100982\n",
       "Canada                    113.510961\n",
       "Poland                     75.678935\n",
       "United Kingdom             45.534443"
      ]
     },
     "execution_count": 21,
     "metadata": {},
     "output_type": "execute_result"
    }
   ],
   "source": [
    "interested_c = interested_c[interested_c.exp_m<20000]\n",
    "interested_c[['CountryLive','exp_m']].groupby(['CountryLive']).mean().sort_values('exp_m',ascending = False)"
   ]
  },
  {
   "cell_type": "code",
   "execution_count": 22,
   "metadata": {
    "collapsed": false
   },
   "outputs": [
    {
     "name": "stderr",
     "output_type": "stream",
     "text": [
      "/dataquest/system/env/python3/lib/python3.4/site-packages/seaborn/categorical.py:454: FutureWarning: remove_na is deprecated and is a private function. Do not use.\n",
      "  box_data = remove_na(group_data)\n"
     ]
    },
    {
     "data": {
      "text/plain": [
       "(array([0, 1, 2, 3, 4]), <a list of 5 Text xticklabel objects>)"
      ]
     },
     "execution_count": 22,
     "metadata": {},
     "output_type": "execute_result"
    },
    {
     "data": {
      "image/png": "[encoded data removed]",
      "text/plain": [
       "<matplotlib.figure.Figure at 0x7f4e0af24048>"
      ]
     },
     "metadata": {},
     "output_type": "display_data"
    }
   ],
   "source": [
    "sns.boxplot(data = interested_c, y = 'exp_m', x = 'CountryLive')\n",
    "plt.title('Monthly Learning Expenditure')\n",
    "plt.xlabel('Country')\n",
    "plt.ylabel('USD')\n",
    "plt.xticks(rotation=45)"
   ]
  },
  {
   "cell_type": "markdown",
   "metadata": {},
   "source": [
    "The above boxplot provides a closer look. while it is still unclear for which country is a better investment. we can see that in general there are outliner below 200 in every interested country. However, US and India is partcularly prone to outliner than others, one possiblity is that they attended bootcamp.\n",
    "\n",
    "We further our search in identitfying the reason of outliners of US and India."
   ]
  },
  {
   "cell_type": "code",
   "execution_count": 48,
   "metadata": {
    "collapsed": false
   },
   "outputs": [],
   "source": [
    "india_outliners = interested_c[(interested_c['CountryLive']=='India') & (interested_c['exp_m'] >= 2500)]\n",
    "usa_outliners = interested_c[(interested_c['CountryLive']=='United States of America') & (interested_c['exp_m'] >= 6000)]\n",
    "canada_outliners = interested_c[(interested_c['CountryLive']=='Canada') & (interested_c['exp_m'] >= 4000)]\n",
    "india_outliners = df_fcc.loc[india_outliners.index]\n",
    "usa_outliners = df_fcc.loc[usa_outliners.index]\n",
    "canada_outliners = df_fcc.loc[canada_outliners.index]"
   ]
  },
  {
   "cell_type": "code",
   "execution_count": 49,
   "metadata": {
    "collapsed": false
   },
   "outputs": [
    {
     "name": "stdout",
     "output_type": "stream",
     "text": [
      "there are in total 0 outliners in India\n",
      "there are in total 6 outliners in USA\n",
      "there are in total 1 outliners in Canada\n"
     ]
    }
   ],
   "source": [
    "print('there are in total {num} outliners in India'.format(num = india_outliners.shape[0]))\n",
    "print('there are in total {num} outliners in USA'.format(num = usa_outliners.shape[0]))\n",
    "print('there are in total {num} outliners in Canada'.format(num = canada_outliners.shape[0]))"
   ]
  },
  {
   "cell_type": "code",
   "execution_count": 43,
   "metadata": {
    "collapsed": false
   },
   "outputs": [
    {
     "data": {
      "text/plain": [
       "'0 of 0 of india outliners partcipate in bootcamp'"
      ]
     },
     "execution_count": 43,
     "metadata": {},
     "output_type": "execute_result"
    }
   ],
   "source": [
    "'{num_b} of {num_t} of india outliners partcipate in bootcamp'.format(num_b = int(india_outliners['AttendedBootcamp'].sum()), \n",
    "                                                                    num_t = india_outliners.shape[0])"
   ]
  },
  {
   "cell_type": "markdown",
   "metadata": {},
   "source": [
    "No India outliners attended bootcamps.\n",
    "\n",
    "The actual question of the survey was *\"Aside from university tuition, about how much money have you spent on learning to code so far (in US dollars)?\"*\n",
    "\n",
    "There is possibility that they misunderstood and thought university tuition is included. It seems safer to remove these two rows."
   ]
  },
  {
   "cell_type": "code",
   "execution_count": 36,
   "metadata": {
    "collapsed": false
   },
   "outputs": [],
   "source": [
    "interested_c = interested_c.drop(india_outliners.index)"
   ]
  },
  {
   "cell_type": "code",
   "execution_count": 50,
   "metadata": {
    "collapsed": false
   },
   "outputs": [
    {
     "data": {
      "text/plain": [
       "'6 of 6 of USA outliners partcipate in bootcamp'"
      ]
     },
     "execution_count": 50,
     "metadata": {},
     "output_type": "execute_result"
    }
   ],
   "source": [
    "'{num_b} of {num_t} of USA outliners partcipate in bootcamp'.format(num_b = int(usa_outliners['AttendedBootcamp'].sum()), \n",
    "                                                                    num_t = usa_outliners.shape[0])"
   ]
  },
  {
   "cell_type": "code",
   "execution_count": 51,
   "metadata": {
    "collapsed": false
   },
   "outputs": [
    {
     "data": {
      "text/plain": [
       "'1 of 1 of Canada outliners partcipate in bootcamp'"
      ]
     },
     "execution_count": 51,
     "metadata": {},
     "output_type": "execute_result"
    }
   ],
   "source": [
    "'{num_b} of {num_t} of Canada outliners partcipate in bootcamp'.format(num_b = int(canada_outliners['AttendedBootcamp'].sum()), \n",
    "                                                                    num_t = canada_outliners.shape[0])"
   ]
  },
  {
   "cell_type": "markdown",
   "metadata": {},
   "source": [
    "remove the outliners which has no attendence in bootcamp"
   ]
  },
  {
   "cell_type": "code",
   "execution_count": 53,
   "metadata": {
    "collapsed": false
   },
   "outputs": [],
   "source": [
    "usa_outliners_no_bootcamp = usa_outliners['AttendedBootcamp'][usa_outliners['AttendedBootcamp']==0]\n",
    "interested_c = interested_c.drop(usa_outliners_no_bootcamp.index)"
   ]
  },
  {
   "cell_type": "code",
   "execution_count": 55,
   "metadata": {
    "collapsed": false
   },
   "outputs": [
    {
     "name": "stderr",
     "output_type": "stream",
     "text": [
      "/dataquest/system/env/python3/lib/python3.4/site-packages/seaborn/categorical.py:454: FutureWarning: remove_na is deprecated and is a private function. Do not use.\n",
      "  box_data = remove_na(group_data)\n"
     ]
    },
    {
     "data": {
      "text/plain": [
       "(array([0, 1, 2, 3, 4]), <a list of 5 Text xticklabel objects>)"
      ]
     },
     "execution_count": 55,
     "metadata": {},
     "output_type": "execute_result"
    },
    {
     "data": {
      "image/png": "[encoded data removed]",
      "text/plain": [
       "<matplotlib.figure.Figure at 0x7f4dfedeccc0>"
      ]
     },
     "metadata": {},
     "output_type": "display_data"
    }
   ],
   "source": [
    "sns.boxplot(data = interested_c, y = 'exp_m', x = 'CountryLive')\n",
    "plt.title('Monthly Learning Expenditure')\n",
    "plt.xlabel('Country')\n",
    "plt.ylabel('USD')\n",
    "plt.xticks(rotation=45)"
   ]
  },
  {
   "cell_type": "markdown",
   "metadata": {},
   "source": [
    "# Choosing the Two Best Markets\n",
    "Obviously, one country we should advertise in is the US. \n",
    "Lots of new coders live there and they are willing to pay a good amount of money each month (roughly \\$143).\n",
    "\n",
    "The data suggests strongly that we shouldn't advertise in the UK, but let's take a second look at India before deciding to choose Canada as our second best choice:\n",
    "\n",
    "$59 doesn't seem like an expensive sum for people in India since they spend on average \\$66 each month.\n",
    "We have almost twice as more potential customers in India than we have in Canada.\n",
    "with this in mind, we suggest the other market should be Canada."
   ]
  }
 ],
 "metadata": {
  "kernelspec": {
   "display_name": "Python 3",
   "language": "python",
   "name": "python3"
  },
  "language_info": {
   "codemirror_mode": {
    "name": "ipython",
    "version": 3
   },
   "file_extension": ".py",
   "mimetype": "text/x-python",
   "name": "python",
   "nbconvert_exporter": "python",
   "pygments_lexer": "ipython3",
   "version": "3.4.3"
  }
 },
 "nbformat": 4,
 "nbformat_minor": 2
}
